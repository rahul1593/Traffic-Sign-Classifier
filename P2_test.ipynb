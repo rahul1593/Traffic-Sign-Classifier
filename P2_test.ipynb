{
 "cells": [
  {
   "cell_type": "code",
   "execution_count": 1,
   "metadata": {
    "collapsed": true,
    "nbpresent": {
     "id": "475ad580-fa56-46a5-90ae-1a9f36354934"
    }
   },
   "outputs": [],
   "source": [
    "import pickle\n",
    "import numpy as np\n",
    "import random\n",
    "import matplotlib.pyplot as plt\n",
    "from sklearn.utils import shuffle\n",
    "import tensorflow as tf\n",
    "from tensorflow.contrib.layers import flatten"
   ]
  },
  {
   "cell_type": "code",
   "execution_count": 2,
   "metadata": {
    "collapsed": true,
    "nbpresent": {
     "id": "cc2bafed-e531-4535-af07-b913faa494e0"
    }
   },
   "outputs": [],
   "source": [
    "def rgb2gray(img):\n",
    "    gray = 0.2989*img[:,:,0] + 0.5870*img[:,:,1] + 0.1140*img[:,:,2]\n",
    "    return gray\n"
   ]
  },
  {
   "cell_type": "code",
   "execution_count": 15,
   "metadata": {
    "nbpresent": {
     "id": "f48bc151-a7ff-4203-bd97-9cd31c62607c"
    }
   },
   "outputs": [
    {
     "name": "stdout",
     "output_type": "stream",
     "text": [
      "Number of training examples = 34799\n",
      "Number of testing examples = 12630\n",
      "Image data shape = (32, 32, 3)\n",
      "Number of classes = 43\n",
      "(32, 32, 1)\n"
     ]
    },
    {
     "data": {
      "image/png": "[encoded data removed]",
      "text/plain": [
       "<matplotlib.figure.Figure at 0x7f5cfd5ab358>"
      ]
     },
     "metadata": {},
     "output_type": "display_data"
    }
   ],
   "source": [
    "# Load pickled data\n",
    "# TODO: Fill this in based on where you saved the training and testing data\n",
    "training_file = 'train.p'\n",
    "validation_file='valid.p'\n",
    "testing_file = 'test.p'\n",
    "\n",
    "with open(training_file, mode='rb') as f:\n",
    "    train = pickle.load(f)\n",
    "with open(validation_file, mode='rb') as f:\n",
    "    valid = pickle.load(f)\n",
    "with open(testing_file, mode='rb') as f:\n",
    "    test = pickle.load(f)\n",
    "    \n",
    "X_train, y_train = train['features'], train['labels']\n",
    "X_valid, y_valid = valid['features'], valid['labels']\n",
    "X_test, y_test = test['features'], test['labels']\n",
    "\n",
    "### Replace each question mark with the appropriate value. \n",
    "### Use python, pandas or numpy methods rather than hard coding the results\n",
    "\n",
    "# TODO: Number of training examples\n",
    "n_train = len(X_train)\n",
    "\n",
    "# TODO: Number of validation examples\n",
    "n_validation = len(X_valid)\n",
    "\n",
    "# TODO: Number of testing examples.\n",
    "n_test = len(X_test)\n",
    "\n",
    "# TODO: What's the shape of an traffic sign image?\n",
    "image_shape = X_train[0].shape\n",
    "\n",
    "# TODO: How many unique classes/labels there are in the dataset.\n",
    "n_classes = np.copy(y_train)\n",
    "n_classes = len(set(n_classes))\n",
    "\n",
    "print(\"Number of training examples =\", n_train)\n",
    "print(\"Number of testing examples =\", n_test)\n",
    "print(\"Image data shape =\", image_shape)\n",
    "print(\"Number of classes =\", n_classes)\n",
    "\n",
    "### Data exploration visualization code goes here.\n",
    "### Feel free to use as many code cells as needed.\n",
    "# Visualizations will be shown in the notebook.\n",
    "%matplotlib inline\n",
    "\n",
    "t_i = []\n",
    "img = []\n",
    "for i in range(4):\n",
    "    t_i.append(random.randint(0, len(X_train)))\n",
    "    img.append(X_train[t_i[-1]].squeeze())\n",
    "\n",
    "fig = plt.figure(figsize=(7,7))\n",
    "for i in range(4):\n",
    "    sf = fig.add_subplot(1, 4, i+1)\n",
    "    plt.imshow(img[i], cmap=\"gray\")\n",
    "    sf.set_title(\"Index: \"+str(y_train[t_i[i]]))\n",
    "\n",
    "### Preprocess the data here. It is required to normalize the data. Other preprocessing steps could include \n",
    "### converting to grayscale\n",
    "\n",
    "X_train = [rgb2gray(img).reshape((32,32,1)) for img in X_train]\n",
    "X_valid = [rgb2gray(img).reshape((32,32,1)) for img in X_valid]\n",
    "X_test = [rgb2gray(img).reshape((32,32,1)) for img in X_test]\n",
    "X_train, y_train = shuffle(X_train, y_train)\n",
    "X_valid, y_valid = shuffle(X_valid, y_valid)\n",
    "X_test, y_test = shuffle(X_test, y_test)\n",
    "\n",
    "#plt.imshow(X_train[0])\n",
    "print(X_train[0].shape)"
   ]
  },
  {
   "cell_type": "code",
   "execution_count": 16,
   "metadata": {
    "collapsed": true
   },
   "outputs": [],
   "source": [
    "### Define your architecture here.\n",
    "### Feel free to use as many code cells as needed.\n",
    "\n",
    "def model(x):\n",
    "    mu = 0\n",
    "    sigma = 0.1\n",
    "    keep_prob = 0.9\n",
    "    weights = {\n",
    "        \"cnv1\": tf.Variable(tf.truncated_normal(shape=(5, 5, 1, 32), mean = mu, stddev = sigma)),\n",
    "        \"cnv2\": tf.Variable(tf.truncated_normal(shape=(3, 3, 32, 32), mean = mu, stddev = sigma)),\n",
    "        \"cnv3\": tf.Variable(tf.truncated_normal(shape=(1568, 512), mean = mu, stddev = sigma)),\n",
    "        \"cnv4\": tf.Variable(tf.truncated_normal(shape=(512, 172), mean = mu, stddev = sigma)),\n",
    "        \"cnv5\": tf.Variable(tf.truncated_normal(shape=(172, n_classes), mean = mu, stddev = sigma))\n",
    "    }\n",
    "    biases = {\n",
    "        'bcv1': tf.Variable(tf.zeros([32])),\n",
    "        'bcv2': tf.Variable(tf.zeros([32])),\n",
    "        'bcv3': tf.Variable(tf.zeros([512])),\n",
    "        'bcv4': tf.Variable(tf.zeros([172])),\n",
    "        'bcv5': tf.Variable(tf.zeros([n_classes]))\n",
    "    }\n",
    "    # Layer 1: Convolutional. Input=32x32x1, Output = 32x32x32\n",
    "    layer = tf.nn.conv2d(x, weights['cnv1'], strides=[1,1,1,1], padding=\"SAME\") + biases['bcv1']\n",
    "    layer = tf.nn.relu(layer)\n",
    "    #Pooling, Input = 32x32x32, Output = 16x16x32\n",
    "    layer = tf.nn.max_pool(layer, ksize=[1,2,2,1], strides=[1,2,2,1], padding=\"SAME\")\n",
    "    \n",
    "    # Layer 2: Convolutional. Input=16x16x32, Output = 14x14x32\n",
    "    layer = tf.nn.conv2d(layer, weights['cnv2'], strides=[1,1,1,1], padding=\"VALID\") + biases['bcv2']\n",
    "    layer = tf.nn.relu(layer)\n",
    "    #Pooling, Input = 14x14x32, Output = 7x7x32\n",
    "    layer = tf.nn.max_pool(layer, ksize=[1,2,2,1], strides=[1,2,2,1], padding=\"SAME\")\n",
    "    \n",
    "    #flatten the image, output = 1568\n",
    "    layer = flatten(layer)\n",
    "    layer = tf.nn.dropout(layer, keep_prob) #keep_prob = 0.9\n",
    "    \n",
    "    #Layer 3: Fully connected Input = 1568, Output = 512\n",
    "    layer = tf.add(tf.matmul(layer, weights['cnv3']), biases['bcv3'])\n",
    "    layer = tf.nn.relu(layer)\n",
    "    \n",
    "    #Layer 4: Fully connected Input = 512, Output = 172\n",
    "    layer = tf.add(tf.matmul(layer, weights['cnv4']), biases['bcv4'])\n",
    "    layer = tf.nn.relu(layer)\n",
    "    layer = tf.nn.dropout(layer, 0.85)\n",
    "    \n",
    "    #Layer 5: Fully connected Input = 172, Output = 43\n",
    "    layer = tf.add(tf.matmul(layer, weights['cnv5']), biases['bcv5'])\n",
    "    logits = tf.nn.relu(layer)\n",
    "    return logits"
   ]
  },
  {
   "cell_type": "code",
   "execution_count": 17,
   "metadata": {
    "scrolled": true
   },
   "outputs": [
    {
     "name": "stdout",
     "output_type": "stream",
     "text": [
      "Training...\n",
      "\n",
      "Epoch 1 ... Validation Accuracy = 0.099\n",
      "Epoch 2 ... Validation Accuracy = 0.201\n",
      "Epoch 3 ... Validation Accuracy = 0.361\n",
      "Epoch 4 ... Validation Accuracy = 0.431\n",
      "Epoch 5 ... Validation Accuracy = 0.499\n",
      "Epoch 6 ... Validation Accuracy = 0.549\n",
      "Epoch 7 ... Validation Accuracy = 0.619\n",
      "Epoch 8 ... Validation Accuracy = 0.669\n",
      "Epoch 9 ... Validation Accuracy = 0.717\n",
      "Epoch 10 ... Validation Accuracy = 0.765\n",
      "Epoch 11 ... Validation Accuracy = 0.780\n",
      "Epoch 12 ... Validation Accuracy = 0.806\n",
      "Epoch 13 ... Validation Accuracy = 0.823\n",
      "Epoch 14 ... Validation Accuracy = 0.822\n",
      "Epoch 15 ... Validation Accuracy = 0.834\n",
      "Epoch 16 ... Validation Accuracy = 0.861\n",
      "Epoch 17 ... Validation Accuracy = 0.858\n",
      "Epoch 18 ... Validation Accuracy = 0.856\n",
      "Epoch 19 ... Validation Accuracy = 0.848\n",
      "Epoch 20 ... Validation Accuracy = 0.876\n",
      "Epoch 21 ... Validation Accuracy = 0.872\n",
      "Epoch 22 ... Validation Accuracy = 0.871\n",
      "Epoch 23 ... Validation Accuracy = 0.879\n",
      "Epoch 24 ... Validation Accuracy = 0.878\n",
      "Epoch 25 ... Validation Accuracy = 0.884\n",
      "Epoch 26 ... Validation Accuracy = 0.888\n",
      "Epoch 27 ... Validation Accuracy = 0.885\n",
      "Epoch 28 ... Validation Accuracy = 0.902\n",
      "Epoch 29 ... Validation Accuracy = 0.895\n",
      "Epoch 30 ... Validation Accuracy = 0.902\n",
      "Epoch 31 ... Validation Accuracy = 0.881\n",
      "Epoch 32 ... Validation Accuracy = 0.906\n",
      "Epoch 33 ... Validation Accuracy = 0.903\n",
      "Epoch 34 ... Validation Accuracy = 0.896\n",
      "Epoch 35 ... Validation Accuracy = 0.913\n",
      "Epoch 36 ... Validation Accuracy = 0.913\n",
      "Epoch 37 ... Validation Accuracy = 0.911\n",
      "Epoch 38 ... Validation Accuracy = 0.905\n",
      "Epoch 39 ... Validation Accuracy = 0.913\n",
      "Epoch 40 ... Validation Accuracy = 0.907\n",
      "Epoch 41 ... Validation Accuracy = 0.915\n",
      "Epoch 42 ... Validation Accuracy = 0.911\n",
      "Epoch 43 ... Validation Accuracy = 0.912\n",
      "Epoch 44 ... Validation Accuracy = 0.922\n",
      "Epoch 45 ... Validation Accuracy = 0.918\n",
      "Epoch 46 ... Validation Accuracy = 0.913\n",
      "Epoch 47 ... Validation Accuracy = 0.921\n",
      "Epoch 48 ... Validation Accuracy = 0.908\n",
      "Epoch 49 ... Validation Accuracy = 0.927\n",
      "Epoch 50 ... Validation Accuracy = 0.915\n",
      "Epoch 51 ... Validation Accuracy = 0.913\n",
      "Epoch 52 ... Validation Accuracy = 0.920\n",
      "Epoch 53 ... Validation Accuracy = 0.922\n",
      "Epoch 54 ... Validation Accuracy = 0.924\n",
      "Epoch 55 ... Validation Accuracy = 0.918\n",
      "Epoch 56 ... Validation Accuracy = 0.926\n",
      "Epoch 57 ... Validation Accuracy = 0.919\n",
      "Epoch 58 ... Validation Accuracy = 0.911\n",
      "Epoch 59 ... Validation Accuracy = 0.924\n",
      "Epoch 60 ... Validation Accuracy = 0.922\n",
      "Epoch 61 ... Validation Accuracy = 0.918\n",
      "Epoch 62 ... Validation Accuracy = 0.927\n",
      "Epoch 63 ... Validation Accuracy = 0.914\n",
      "Epoch 64 ... Validation Accuracy = 0.913\n",
      "Epoch 65 ... Validation Accuracy = 0.923\n",
      "Epoch 66 ... Validation Accuracy = 0.928\n",
      "Epoch 67 ... Validation Accuracy = 0.925\n",
      "Epoch 68 ... Validation Accuracy = 0.926\n",
      "Epoch 69 ... Validation Accuracy = 0.923\n",
      "Epoch 70 ... Validation Accuracy = 0.928\n",
      "Epoch 71 ... Validation Accuracy = 0.924\n",
      "Epoch 72 ... Validation Accuracy = 0.923\n",
      "Epoch 73 ... Validation Accuracy = 0.933\n",
      "Epoch 74 ... Validation Accuracy = 0.939\n",
      "Epoch 75 ... Validation Accuracy = 0.931\n",
      "Epoch 76 ... Validation Accuracy = 0.924\n",
      "Epoch 77 ... Validation Accuracy = 0.934\n",
      "Epoch 78 ... Validation Accuracy = 0.926\n",
      "Epoch 79 ... Validation Accuracy = 0.933\n",
      "Epoch 80 ... Validation Accuracy = 0.931\n",
      "Epoch 81 ... Validation Accuracy = 0.927\n",
      "Epoch 82 ... Validation Accuracy = 0.939\n",
      "Epoch 83 ... Validation Accuracy = 0.933\n",
      "Epoch 84 ... Validation Accuracy = 0.907\n",
      "Epoch 85 ... Validation Accuracy = 0.930\n",
      "Epoch 86 ... Validation Accuracy = 0.933\n",
      "Epoch 87 ... Validation Accuracy = 0.939\n",
      "Epoch 88 ... Validation Accuracy = 0.938\n",
      "Epoch 89 ... Validation Accuracy = 0.926\n",
      "Epoch 90 ... Validation Accuracy = 0.936\n",
      "Epoch 91 ... Validation Accuracy = 0.926\n",
      "Epoch 92 ... Validation Accuracy = 0.937\n",
      "Epoch 93 ... Validation Accuracy = 0.937\n",
      "Epoch 94 ... Validation Accuracy = 0.935\n",
      "Epoch 95 ... Validation Accuracy = 0.928\n",
      "Epoch 96 ... Validation Accuracy = 0.934\n",
      "Epoch 97 ... Validation Accuracy = 0.938\n",
      "Epoch 98 ... Validation Accuracy = 0.934\n",
      "Epoch 99 ... Validation Accuracy = 0.932\n",
      "Epoch 100 ... Validation Accuracy = 0.934\n",
      "Epoch 101 ... Validation Accuracy = 0.932\n",
      "Epoch 102 ... Validation Accuracy = 0.936\n",
      "Epoch 103 ... Validation Accuracy = 0.939\n",
      "Epoch 104 ... Validation Accuracy = 0.938\n",
      "Epoch 105 ... Validation Accuracy = 0.939\n",
      "Epoch 106 ... Validation Accuracy = 0.937\n",
      "Epoch 107 ... Validation Accuracy = 0.949\n",
      "Epoch 108 ... Validation Accuracy = 0.943\n",
      "Epoch 109 ... Validation Accuracy = 0.939\n",
      "Epoch 110 ... Validation Accuracy = 0.935\n",
      "Epoch 111 ... Validation Accuracy = 0.944\n",
      "Epoch 112 ... Validation Accuracy = 0.940\n",
      "Epoch 113 ... Validation Accuracy = 0.944\n",
      "Epoch 114 ... Validation Accuracy = 0.947\n",
      "Epoch 115 ... Validation Accuracy = 0.935\n",
      "Epoch 116 ... Validation Accuracy = 0.942\n",
      "Epoch 117 ... Validation Accuracy = 0.941\n",
      "Epoch 118 ... Validation Accuracy = 0.946\n",
      "Epoch 119 ... Validation Accuracy = 0.945\n",
      "Epoch 120 ... Validation Accuracy = 0.932\n",
      "Epoch 121 ... Validation Accuracy = 0.935\n",
      "Epoch 122 ... Validation Accuracy = 0.938\n",
      "Epoch 123 ... Validation Accuracy = 0.944\n",
      "Epoch 124 ... Validation Accuracy = 0.951\n",
      "Epoch 125 ... Validation Accuracy = 0.945\n",
      "Epoch 126 ... Validation Accuracy = 0.940\n",
      "Epoch 127 ... Validation Accuracy = 0.937\n",
      "Epoch 128 ... Validation Accuracy = 0.939\n",
      "Epoch 129 ... Validation Accuracy = 0.938\n",
      "Epoch 130 ... Validation Accuracy = 0.939\n",
      "Epoch 131 ... Validation Accuracy = 0.947\n",
      "Epoch 132 ... Validation Accuracy = 0.953\n",
      "Epoch 133 ... Validation Accuracy = 0.942\n",
      "Epoch 134 ... Validation Accuracy = 0.948\n",
      "Epoch 135 ... Validation Accuracy = 0.925\n",
      "Epoch 136 ... Validation Accuracy = 0.942\n",
      "Epoch 137 ... Validation Accuracy = 0.934\n",
      "Epoch 138 ... Validation Accuracy = 0.945\n",
      "Epoch 139 ... Validation Accuracy = 0.948\n",
      "Epoch 140 ... Validation Accuracy = 0.944\n",
      "Epoch 141 ... Validation Accuracy = 0.945\n",
      "Epoch 142 ... Validation Accuracy = 0.952\n",
      "Epoch 143 ... Validation Accuracy = 0.939\n",
      "Epoch 144 ... Validation Accuracy = 0.933\n",
      "Epoch 145 ... Validation Accuracy = 0.951\n",
      "Epoch 146 ... Validation Accuracy = 0.947\n",
      "Epoch 147 ... Validation Accuracy = 0.955\n",
      "Model saved\n"
     ]
    },
    {
     "data": {
      "image/png": "[encoded data removed]",
      "text/plain": [
       "<matplotlib.figure.Figure at 0x7f5cfd735e80>"
      ]
     },
     "metadata": {},
     "output_type": "display_data"
    }
   ],
   "source": [
    "### Train your model here.\n",
    "### Calculate and report the accuracy on the training and validation set.\n",
    "### Once a final model architecture is selected, \n",
    "### the accuracy on the test set should be calculated and reported as well.\n",
    "### Feel free to use as many code cells as needed.\n",
    "x = tf.placeholder(tf.float32, (None, 32,32,1))\n",
    "y = tf.placeholder(tf.int32, (None))\n",
    "one_hot_y = tf.one_hot(y, n_classes)\n",
    "\n",
    "rate = 0.000361\n",
    "MAX_EPOCHS = 200\n",
    "BATCH_SIZE = 128\n",
    "#dropout = 0.80\n",
    "\n",
    "logits = model(x)\n",
    "cross_entropy = tf.nn.softmax_cross_entropy_with_logits(labels=one_hot_y, logits=logits)\n",
    "loss_operation = tf.reduce_mean(cross_entropy)\n",
    "optimizer = tf.train.AdamOptimizer(learning_rate = rate)\n",
    "training_operation = optimizer.minimize(loss_operation)\n",
    "\n",
    "# Evaluation\n",
    "correct_prediction = tf.equal(tf.argmax(logits, 1), tf.argmax(one_hot_y, 1))\n",
    "accuracy_operation = tf.reduce_mean(tf.cast(correct_prediction, tf.float32))\n",
    "saver = tf.train.Saver()\n",
    "\n",
    "def evaluate(X_data, y_data):\n",
    "    num_examples = len(X_data)\n",
    "    total_accuracy = 0\n",
    "    sess = tf.get_default_session()\n",
    "    for offset in range(0, num_examples, BATCH_SIZE):\n",
    "        batch_x, batch_y = X_data[offset:offset+BATCH_SIZE], y_data[offset:offset+BATCH_SIZE]\n",
    "        accuracy = sess.run(accuracy_operation, feed_dict={x: batch_x, y: batch_y})\n",
    "        total_accuracy += (accuracy * len(batch_x))\n",
    "    return total_accuracy / num_examples\n",
    "\n",
    "ac_list = []\n",
    "c_epoch = 0\n",
    "with tf.Session() as sess:\n",
    "    sess.run(tf.global_variables_initializer())\n",
    "    num_examples = len(X_train)\n",
    "    \n",
    "    print(\"Training...\")\n",
    "    print()\n",
    "    #for i in range(EPOCHS):\n",
    "    while True:\n",
    "        if c_epoch >= MAX_EPOCHS:\n",
    "            break\n",
    "        c_epoch += 1\n",
    "        X_train, y_train = shuffle(X_train, y_train)\n",
    "        for offset in range(0, num_examples, BATCH_SIZE):\n",
    "            end = offset + BATCH_SIZE\n",
    "            batch_x, batch_y = X_train[offset:end], y_train[offset:end]\n",
    "            sess.run(training_operation, feed_dict={x: batch_x, y: batch_y})\n",
    "            \n",
    "        validation_accuracy = evaluate(X_valid, y_valid)\n",
    "        print(\"Epoch {} ...\".format(c_epoch), \"Validation Accuracy = {:.3f}\".format(validation_accuracy))\n",
    "        #print(validation_accuracy.round(3))\n",
    "        ac_list.append(validation_accuracy)\n",
    "        if validation_accuracy > 0.955:\n",
    "            break\n",
    "        \n",
    "    saver.save(sess, './model')\n",
    "    print(\"Model saved\")\n",
    "    \n",
    "plt.plot(list(range(1, c_epoch)), [ac_list[i] for i in range(1, c_epoch)], 'b')\n",
    "plt.axis([1, c_epoch, 1, 0])\n",
    "plt.xlabel(\"Epochs\")\n",
    "plt.ylabel(\"Error\")\n",
    "plt.show()"
   ]
  },
  {
   "cell_type": "code",
   "execution_count": 18,
   "metadata": {},
   "outputs": [
    {
     "name": "stdout",
     "output_type": "stream",
     "text": [
      "Test Accuracy = 0.937\n"
     ]
    }
   ],
   "source": [
    "with tf.Session() as sess:\n",
    "    saver.restore(sess, tf.train.latest_checkpoint('.'))\n",
    "\n",
    "    test_accuracy = evaluate(X_test, y_test)\n",
    "    print(\"Test Accuracy = {:.3f}\".format(test_accuracy))\n"
   ]
  },
  {
   "cell_type": "markdown",
   "metadata": {
    "collapsed": true
   },
   "source": [
    "### Test with new images"
   ]
  },
  {
   "cell_type": "code",
   "execution_count": 25,
   "metadata": {},
   "outputs": [
    {
     "data": {
      "image/png": "[encoded data removed]",
      "text/plain": [
       "<matplotlib.figure.Figure at 0x7f5d007aaba8>"
      ]
     },
     "metadata": {},
     "output_type": "display_data"
    }
   ],
   "source": [
    "import matplotlib.image as mpimg\n",
    "from PIL import Image\n",
    "test_img_dir = \"./test_images/\"\n",
    "test_img_names = [\"img1.jpg\", \"img2.jpg\", \"img3.jpg\", \"img4.jpg\", \"img5.jpg\"]\n",
    "\n",
    "test_images = []\n",
    "test_images_g = []\n",
    "for i in range(5):\n",
    "    img = Image.open(test_img_dir+test_img_names[i])\n",
    "    resized_img = img.resize((32, 32))\n",
    "    resized_arr = np.asarray(resized_img)\n",
    "    test_images.append(resized_arr)\n",
    "    resized_arr = rgb2gray(resized_arr).reshape((32,32,1))\n",
    "    test_images_g.append(resized_arr)\n",
    "    \n",
    "\n",
    "fig = plt.figure(figsize=(7,7))\n",
    "for i in range(5):\n",
    "    sf = fig.add_subplot(2, 3, i+1)\n",
    "    plt.imshow(test_images[i], cmap=\"gray\")\n",
    "    #sf.set_title(\"Image Title\")"
   ]
  },
  {
   "cell_type": "code",
   "execution_count": 29,
   "metadata": {},
   "outputs": [
    {
     "ename": "FailedPreconditionError",
     "evalue": "Attempting to use uninitialized value Variable_100\n\t [[Node: Variable_100/read = Identity[T=DT_FLOAT, _class=[\"loc:@Variable_100\"], _device=\"/job:localhost/replica:0/task:0/gpu:0\"](Variable_100)]]\n\t [[Node: Relu_54/_323 = _Recv[client_terminated=false, recv_device=\"/job:localhost/replica:0/task:0/cpu:0\", send_device=\"/job:localhost/replica:0/task:0/gpu:0\", send_device_incarnation=1, tensor_name=\"edge_16_Relu_54\", tensor_type=DT_FLOAT, _device=\"/job:localhost/replica:0/task:0/cpu:0\"]()]]\n\nCaused by op 'Variable_100/read', defined at:\n  File \"/home/carnd/anaconda3/envs/carnd-term1/lib/python3.5/runpy.py\", line 184, in _run_module_as_main\n    \"__main__\", mod_spec)\n  File \"/home/carnd/anaconda3/envs/carnd-term1/lib/python3.5/runpy.py\", line 85, in _run_code\n    exec(code, run_globals)\n  File \"/home/carnd/anaconda3/envs/carnd-term1/lib/python3.5/site-packages/ipykernel_launcher.py\", line 16, in <module>\n    app.launch_new_instance()\n  File \"/home/carnd/anaconda3/envs/carnd-term1/lib/python3.5/site-packages/traitlets/config/application.py\", line 658, in launch_instance\n    app.start()\n  File \"/home/carnd/anaconda3/envs/carnd-term1/lib/python3.5/site-packages/ipykernel/kernelapp.py\", line 477, in start\n    ioloop.IOLoop.instance().start()\n  File \"/home/carnd/anaconda3/envs/carnd-term1/lib/python3.5/site-packages/zmq/eventloop/ioloop.py\", line 177, in start\n    super(ZMQIOLoop, self).start()\n  File \"/home/carnd/anaconda3/envs/carnd-term1/lib/python3.5/site-packages/tornado/ioloop.py\", line 888, in start\n    handler_func(fd_obj, events)\n  File \"/home/carnd/anaconda3/envs/carnd-term1/lib/python3.5/site-packages/tornado/stack_context.py\", line 277, in null_wrapper\n    return fn(*args, **kwargs)\n  File \"/home/carnd/anaconda3/envs/carnd-term1/lib/python3.5/site-packages/zmq/eventloop/zmqstream.py\", line 440, in _handle_events\n    self._handle_recv()\n  File \"/home/carnd/anaconda3/envs/carnd-term1/lib/python3.5/site-packages/zmq/eventloop/zmqstream.py\", line 472, in _handle_recv\n    self._run_callback(callback, msg)\n  File \"/home/carnd/anaconda3/envs/carnd-term1/lib/python3.5/site-packages/zmq/eventloop/zmqstream.py\", line 414, in _run_callback\n    callback(*args, **kwargs)\n  File \"/home/carnd/anaconda3/envs/carnd-term1/lib/python3.5/site-packages/tornado/stack_context.py\", line 277, in null_wrapper\n    return fn(*args, **kwargs)\n  File \"/home/carnd/anaconda3/envs/carnd-term1/lib/python3.5/site-packages/ipykernel/kernelbase.py\", line 283, in dispatcher\n    return self.dispatch_shell(stream, msg)\n  File \"/home/carnd/anaconda3/envs/carnd-term1/lib/python3.5/site-packages/ipykernel/kernelbase.py\", line 235, in dispatch_shell\n    handler(stream, idents, msg)\n  File \"/home/carnd/anaconda3/envs/carnd-term1/lib/python3.5/site-packages/ipykernel/kernelbase.py\", line 399, in execute_request\n    user_expressions, allow_stdin)\n  File \"/home/carnd/anaconda3/envs/carnd-term1/lib/python3.5/site-packages/ipykernel/ipkernel.py\", line 196, in do_execute\n    res = shell.run_cell(code, store_history=store_history, silent=silent)\n  File \"/home/carnd/anaconda3/envs/carnd-term1/lib/python3.5/site-packages/ipykernel/zmqshell.py\", line 533, in run_cell\n    return super(ZMQInteractiveShell, self).run_cell(*args, **kwargs)\n  File \"/home/carnd/anaconda3/envs/carnd-term1/lib/python3.5/site-packages/IPython/core/interactiveshell.py\", line 2683, in run_cell\n    interactivity=interactivity, compiler=compiler, result=result)\n  File \"/home/carnd/anaconda3/envs/carnd-term1/lib/python3.5/site-packages/IPython/core/interactiveshell.py\", line 2787, in run_ast_nodes\n    if self.run_code(code, result):\n  File \"/home/carnd/anaconda3/envs/carnd-term1/lib/python3.5/site-packages/IPython/core/interactiveshell.py\", line 2847, in run_code\n    exec(code_obj, self.user_global_ns, self.user_ns)\n  File \"<ipython-input-29-56cd88cea338>\", line 2, in <module>\n    res = model(x)\n  File \"<ipython-input-16-982aa012f917>\", line 9, in model\n    \"cnv1\": tf.Variable(tf.truncated_normal(shape=(5, 5, 1, 32), mean = mu, stddev = sigma)),\n  File \"/home/carnd/anaconda3/envs/carnd-term1/lib/python3.5/site-packages/tensorflow/python/ops/variables.py\", line 224, in __init__\n    expected_shape=expected_shape)\n  File \"/home/carnd/anaconda3/envs/carnd-term1/lib/python3.5/site-packages/tensorflow/python/ops/variables.py\", line 370, in _init_from_args\n    self._snapshot = array_ops.identity(self._variable, name=\"read\")\n  File \"/home/carnd/anaconda3/envs/carnd-term1/lib/python3.5/site-packages/tensorflow/python/ops/gen_array_ops.py\", line 1424, in identity\n    result = _op_def_lib.apply_op(\"Identity\", input=input, name=name)\n  File \"/home/carnd/anaconda3/envs/carnd-term1/lib/python3.5/site-packages/tensorflow/python/framework/op_def_library.py\", line 759, in apply_op\n    op_def=op_def)\n  File \"/home/carnd/anaconda3/envs/carnd-term1/lib/python3.5/site-packages/tensorflow/python/framework/ops.py\", line 2240, in create_op\n    original_op=self._default_original_op, op_def=op_def)\n  File \"/home/carnd/anaconda3/envs/carnd-term1/lib/python3.5/site-packages/tensorflow/python/framework/ops.py\", line 1128, in __init__\n    self._traceback = _extract_stack()\n\nFailedPreconditionError (see above for traceback): Attempting to use uninitialized value Variable_100\n\t [[Node: Variable_100/read = Identity[T=DT_FLOAT, _class=[\"loc:@Variable_100\"], _device=\"/job:localhost/replica:0/task:0/gpu:0\"](Variable_100)]]\n\t [[Node: Relu_54/_323 = _Recv[client_terminated=false, recv_device=\"/job:localhost/replica:0/task:0/cpu:0\", send_device=\"/job:localhost/replica:0/task:0/gpu:0\", send_device_incarnation=1, tensor_name=\"edge_16_Relu_54\", tensor_type=DT_FLOAT, _device=\"/job:localhost/replica:0/task:0/cpu:0\"]()]]\n",
     "output_type": "error",
     "traceback": [
      "\u001b[0;31m---------------------------------------------------------------------------\u001b[0m",
      "\u001b[0;31mFailedPreconditionError\u001b[0m                   Traceback (most recent call last)",
      "\u001b[0;32m/home/carnd/anaconda3/envs/carnd-term1/lib/python3.5/site-packages/tensorflow/python/client/session.py\u001b[0m in \u001b[0;36m_do_call\u001b[0;34m(self, fn, *args)\u001b[0m\n\u001b[1;32m   1020\u001b[0m     \u001b[0;32mtry\u001b[0m\u001b[0;34m:\u001b[0m\u001b[0;34m\u001b[0m\u001b[0m\n\u001b[0;32m-> 1021\u001b[0;31m       \u001b[0;32mreturn\u001b[0m \u001b[0mfn\u001b[0m\u001b[0;34m(\u001b[0m\u001b[0;34m*\u001b[0m\u001b[0margs\u001b[0m\u001b[0;34m)\u001b[0m\u001b[0;34m\u001b[0m\u001b[0m\n\u001b[0m\u001b[1;32m   1022\u001b[0m     \u001b[0;32mexcept\u001b[0m \u001b[0merrors\u001b[0m\u001b[0;34m.\u001b[0m\u001b[0mOpError\u001b[0m \u001b[0;32mas\u001b[0m \u001b[0me\u001b[0m\u001b[0;34m:\u001b[0m\u001b[0;34m\u001b[0m\u001b[0m\n",
      "\u001b[0;32m/home/carnd/anaconda3/envs/carnd-term1/lib/python3.5/site-packages/tensorflow/python/client/session.py\u001b[0m in \u001b[0;36m_run_fn\u001b[0;34m(session, feed_dict, fetch_list, target_list, options, run_metadata)\u001b[0m\n\u001b[1;32m   1002\u001b[0m                                  \u001b[0mfeed_dict\u001b[0m\u001b[0;34m,\u001b[0m \u001b[0mfetch_list\u001b[0m\u001b[0;34m,\u001b[0m \u001b[0mtarget_list\u001b[0m\u001b[0;34m,\u001b[0m\u001b[0;34m\u001b[0m\u001b[0m\n\u001b[0;32m-> 1003\u001b[0;31m                                  status, run_metadata)\n\u001b[0m\u001b[1;32m   1004\u001b[0m \u001b[0;34m\u001b[0m\u001b[0m\n",
      "\u001b[0;32m/home/carnd/anaconda3/envs/carnd-term1/lib/python3.5/contextlib.py\u001b[0m in \u001b[0;36m__exit__\u001b[0;34m(self, type, value, traceback)\u001b[0m\n\u001b[1;32m     65\u001b[0m             \u001b[0;32mtry\u001b[0m\u001b[0;34m:\u001b[0m\u001b[0;34m\u001b[0m\u001b[0m\n\u001b[0;32m---> 66\u001b[0;31m                 \u001b[0mnext\u001b[0m\u001b[0;34m(\u001b[0m\u001b[0mself\u001b[0m\u001b[0;34m.\u001b[0m\u001b[0mgen\u001b[0m\u001b[0;34m)\u001b[0m\u001b[0;34m\u001b[0m\u001b[0m\n\u001b[0m\u001b[1;32m     67\u001b[0m             \u001b[0;32mexcept\u001b[0m \u001b[0mStopIteration\u001b[0m\u001b[0;34m:\u001b[0m\u001b[0;34m\u001b[0m\u001b[0m\n",
      "\u001b[0;32m/home/carnd/anaconda3/envs/carnd-term1/lib/python3.5/site-packages/tensorflow/python/framework/errors_impl.py\u001b[0m in \u001b[0;36mraise_exception_on_not_ok_status\u001b[0;34m()\u001b[0m\n\u001b[1;32m    468\u001b[0m           \u001b[0mcompat\u001b[0m\u001b[0;34m.\u001b[0m\u001b[0mas_text\u001b[0m\u001b[0;34m(\u001b[0m\u001b[0mpywrap_tensorflow\u001b[0m\u001b[0;34m.\u001b[0m\u001b[0mTF_Message\u001b[0m\u001b[0;34m(\u001b[0m\u001b[0mstatus\u001b[0m\u001b[0;34m)\u001b[0m\u001b[0;34m)\u001b[0m\u001b[0;34m,\u001b[0m\u001b[0;34m\u001b[0m\u001b[0m\n\u001b[0;32m--> 469\u001b[0;31m           pywrap_tensorflow.TF_GetCode(status))\n\u001b[0m\u001b[1;32m    470\u001b[0m   \u001b[0;32mfinally\u001b[0m\u001b[0;34m:\u001b[0m\u001b[0;34m\u001b[0m\u001b[0m\n",
      "\u001b[0;31mFailedPreconditionError\u001b[0m: Attempting to use uninitialized value Variable_100\n\t [[Node: Variable_100/read = Identity[T=DT_FLOAT, _class=[\"loc:@Variable_100\"], _device=\"/job:localhost/replica:0/task:0/gpu:0\"](Variable_100)]]\n\t [[Node: Relu_54/_323 = _Recv[client_terminated=false, recv_device=\"/job:localhost/replica:0/task:0/cpu:0\", send_device=\"/job:localhost/replica:0/task:0/gpu:0\", send_device_incarnation=1, tensor_name=\"edge_16_Relu_54\", tensor_type=DT_FLOAT, _device=\"/job:localhost/replica:0/task:0/cpu:0\"]()]]",
      "\nDuring handling of the above exception, another exception occurred:\n",
      "\u001b[0;31mFailedPreconditionError\u001b[0m                   Traceback (most recent call last)",
      "\u001b[0;32m<ipython-input-29-56cd88cea338>\u001b[0m in \u001b[0;36m<module>\u001b[0;34m()\u001b[0m\n\u001b[1;32m      6\u001b[0m     \u001b[0msaver\u001b[0m\u001b[0;34m.\u001b[0m\u001b[0mrestore\u001b[0m\u001b[0;34m(\u001b[0m\u001b[0msess\u001b[0m\u001b[0;34m,\u001b[0m \u001b[0mtf\u001b[0m\u001b[0;34m.\u001b[0m\u001b[0mtrain\u001b[0m\u001b[0;34m.\u001b[0m\u001b[0mlatest_checkpoint\u001b[0m\u001b[0;34m(\u001b[0m\u001b[0;34m'.'\u001b[0m\u001b[0;34m)\u001b[0m\u001b[0;34m)\u001b[0m\u001b[0;34m\u001b[0m\u001b[0m\n\u001b[1;32m      7\u001b[0m     \u001b[0;32mfor\u001b[0m \u001b[0mi\u001b[0m \u001b[0;32min\u001b[0m \u001b[0mrange\u001b[0m\u001b[0;34m(\u001b[0m\u001b[0;36m5\u001b[0m\u001b[0;34m)\u001b[0m\u001b[0;34m:\u001b[0m\u001b[0;34m\u001b[0m\u001b[0m\n\u001b[0;32m----> 8\u001b[0;31m         \u001b[0mres_l\u001b[0m\u001b[0;34m[\u001b[0m\u001b[0mi\u001b[0m\u001b[0;34m]\u001b[0m \u001b[0;34m=\u001b[0m \u001b[0msess\u001b[0m\u001b[0;34m.\u001b[0m\u001b[0mrun\u001b[0m\u001b[0;34m(\u001b[0m\u001b[0mres\u001b[0m\u001b[0;34m,\u001b[0m \u001b[0mfeed_dict\u001b[0m\u001b[0;34m=\u001b[0m\u001b[0;34m{\u001b[0m\u001b[0mx\u001b[0m\u001b[0;34m:\u001b[0m\u001b[0;34m[\u001b[0m\u001b[0mtest_images_g\u001b[0m\u001b[0;34m[\u001b[0m\u001b[0mi\u001b[0m\u001b[0;34m]\u001b[0m\u001b[0;34m]\u001b[0m\u001b[0;34m}\u001b[0m\u001b[0;34m)\u001b[0m\u001b[0;34m\u001b[0m\u001b[0m\n\u001b[0m\u001b[1;32m      9\u001b[0m \u001b[0mprint\u001b[0m\u001b[0;34m(\u001b[0m\u001b[0mres_l\u001b[0m\u001b[0;34m)\u001b[0m\u001b[0;34m\u001b[0m\u001b[0m\n",
      "\u001b[0;32m/home/carnd/anaconda3/envs/carnd-term1/lib/python3.5/site-packages/tensorflow/python/client/session.py\u001b[0m in \u001b[0;36mrun\u001b[0;34m(self, fetches, feed_dict, options, run_metadata)\u001b[0m\n\u001b[1;32m    764\u001b[0m     \u001b[0;32mtry\u001b[0m\u001b[0;34m:\u001b[0m\u001b[0;34m\u001b[0m\u001b[0m\n\u001b[1;32m    765\u001b[0m       result = self._run(None, fetches, feed_dict, options_ptr,\n\u001b[0;32m--> 766\u001b[0;31m                          run_metadata_ptr)\n\u001b[0m\u001b[1;32m    767\u001b[0m       \u001b[0;32mif\u001b[0m \u001b[0mrun_metadata\u001b[0m\u001b[0;34m:\u001b[0m\u001b[0;34m\u001b[0m\u001b[0m\n\u001b[1;32m    768\u001b[0m         \u001b[0mproto_data\u001b[0m \u001b[0;34m=\u001b[0m \u001b[0mtf_session\u001b[0m\u001b[0;34m.\u001b[0m\u001b[0mTF_GetBuffer\u001b[0m\u001b[0;34m(\u001b[0m\u001b[0mrun_metadata_ptr\u001b[0m\u001b[0;34m)\u001b[0m\u001b[0;34m\u001b[0m\u001b[0m\n",
      "\u001b[0;32m/home/carnd/anaconda3/envs/carnd-term1/lib/python3.5/site-packages/tensorflow/python/client/session.py\u001b[0m in \u001b[0;36m_run\u001b[0;34m(self, handle, fetches, feed_dict, options, run_metadata)\u001b[0m\n\u001b[1;32m    962\u001b[0m     \u001b[0;32mif\u001b[0m \u001b[0mfinal_fetches\u001b[0m \u001b[0;32mor\u001b[0m \u001b[0mfinal_targets\u001b[0m\u001b[0;34m:\u001b[0m\u001b[0;34m\u001b[0m\u001b[0m\n\u001b[1;32m    963\u001b[0m       results = self._do_run(handle, final_targets, final_fetches,\n\u001b[0;32m--> 964\u001b[0;31m                              feed_dict_string, options, run_metadata)\n\u001b[0m\u001b[1;32m    965\u001b[0m     \u001b[0;32melse\u001b[0m\u001b[0;34m:\u001b[0m\u001b[0;34m\u001b[0m\u001b[0m\n\u001b[1;32m    966\u001b[0m       \u001b[0mresults\u001b[0m \u001b[0;34m=\u001b[0m \u001b[0;34m[\u001b[0m\u001b[0;34m]\u001b[0m\u001b[0;34m\u001b[0m\u001b[0m\n",
      "\u001b[0;32m/home/carnd/anaconda3/envs/carnd-term1/lib/python3.5/site-packages/tensorflow/python/client/session.py\u001b[0m in \u001b[0;36m_do_run\u001b[0;34m(self, handle, target_list, fetch_list, feed_dict, options, run_metadata)\u001b[0m\n\u001b[1;32m   1012\u001b[0m     \u001b[0;32mif\u001b[0m \u001b[0mhandle\u001b[0m \u001b[0;32mis\u001b[0m \u001b[0;32mNone\u001b[0m\u001b[0;34m:\u001b[0m\u001b[0;34m\u001b[0m\u001b[0m\n\u001b[1;32m   1013\u001b[0m       return self._do_call(_run_fn, self._session, feed_dict, fetch_list,\n\u001b[0;32m-> 1014\u001b[0;31m                            target_list, options, run_metadata)\n\u001b[0m\u001b[1;32m   1015\u001b[0m     \u001b[0;32melse\u001b[0m\u001b[0;34m:\u001b[0m\u001b[0;34m\u001b[0m\u001b[0m\n\u001b[1;32m   1016\u001b[0m       return self._do_call(_prun_fn, self._session, handle, feed_dict,\n",
      "\u001b[0;32m/home/carnd/anaconda3/envs/carnd-term1/lib/python3.5/site-packages/tensorflow/python/client/session.py\u001b[0m in \u001b[0;36m_do_call\u001b[0;34m(self, fn, *args)\u001b[0m\n\u001b[1;32m   1032\u001b[0m         \u001b[0;32mexcept\u001b[0m \u001b[0mKeyError\u001b[0m\u001b[0;34m:\u001b[0m\u001b[0;34m\u001b[0m\u001b[0m\n\u001b[1;32m   1033\u001b[0m           \u001b[0;32mpass\u001b[0m\u001b[0;34m\u001b[0m\u001b[0m\n\u001b[0;32m-> 1034\u001b[0;31m       \u001b[0;32mraise\u001b[0m \u001b[0mtype\u001b[0m\u001b[0;34m(\u001b[0m\u001b[0me\u001b[0m\u001b[0;34m)\u001b[0m\u001b[0;34m(\u001b[0m\u001b[0mnode_def\u001b[0m\u001b[0;34m,\u001b[0m \u001b[0mop\u001b[0m\u001b[0;34m,\u001b[0m \u001b[0mmessage\u001b[0m\u001b[0;34m)\u001b[0m\u001b[0;34m\u001b[0m\u001b[0m\n\u001b[0m\u001b[1;32m   1035\u001b[0m \u001b[0;34m\u001b[0m\u001b[0m\n\u001b[1;32m   1036\u001b[0m   \u001b[0;32mdef\u001b[0m \u001b[0m_extend_graph\u001b[0m\u001b[0;34m(\u001b[0m\u001b[0mself\u001b[0m\u001b[0;34m)\u001b[0m\u001b[0;34m:\u001b[0m\u001b[0;34m\u001b[0m\u001b[0m\n",
      "\u001b[0;31mFailedPreconditionError\u001b[0m: Attempting to use uninitialized value Variable_100\n\t [[Node: Variable_100/read = Identity[T=DT_FLOAT, _class=[\"loc:@Variable_100\"], _device=\"/job:localhost/replica:0/task:0/gpu:0\"](Variable_100)]]\n\t [[Node: Relu_54/_323 = _Recv[client_terminated=false, recv_device=\"/job:localhost/replica:0/task:0/cpu:0\", send_device=\"/job:localhost/replica:0/task:0/gpu:0\", send_device_incarnation=1, tensor_name=\"edge_16_Relu_54\", tensor_type=DT_FLOAT, _device=\"/job:localhost/replica:0/task:0/cpu:0\"]()]]\n\nCaused by op 'Variable_100/read', defined at:\n  File \"/home/carnd/anaconda3/envs/carnd-term1/lib/python3.5/runpy.py\", line 184, in _run_module_as_main\n    \"__main__\", mod_spec)\n  File \"/home/carnd/anaconda3/envs/carnd-term1/lib/python3.5/runpy.py\", line 85, in _run_code\n    exec(code, run_globals)\n  File \"/home/carnd/anaconda3/envs/carnd-term1/lib/python3.5/site-packages/ipykernel_launcher.py\", line 16, in <module>\n    app.launch_new_instance()\n  File \"/home/carnd/anaconda3/envs/carnd-term1/lib/python3.5/site-packages/traitlets/config/application.py\", line 658, in launch_instance\n    app.start()\n  File \"/home/carnd/anaconda3/envs/carnd-term1/lib/python3.5/site-packages/ipykernel/kernelapp.py\", line 477, in start\n    ioloop.IOLoop.instance().start()\n  File \"/home/carnd/anaconda3/envs/carnd-term1/lib/python3.5/site-packages/zmq/eventloop/ioloop.py\", line 177, in start\n    super(ZMQIOLoop, self).start()\n  File \"/home/carnd/anaconda3/envs/carnd-term1/lib/python3.5/site-packages/tornado/ioloop.py\", line 888, in start\n    handler_func(fd_obj, events)\n  File \"/home/carnd/anaconda3/envs/carnd-term1/lib/python3.5/site-packages/tornado/stack_context.py\", line 277, in null_wrapper\n    return fn(*args, **kwargs)\n  File \"/home/carnd/anaconda3/envs/carnd-term1/lib/python3.5/site-packages/zmq/eventloop/zmqstream.py\", line 440, in _handle_events\n    self._handle_recv()\n  File \"/home/carnd/anaconda3/envs/carnd-term1/lib/python3.5/site-packages/zmq/eventloop/zmqstream.py\", line 472, in _handle_recv\n    self._run_callback(callback, msg)\n  File \"/home/carnd/anaconda3/envs/carnd-term1/lib/python3.5/site-packages/zmq/eventloop/zmqstream.py\", line 414, in _run_callback\n    callback(*args, **kwargs)\n  File \"/home/carnd/anaconda3/envs/carnd-term1/lib/python3.5/site-packages/tornado/stack_context.py\", line 277, in null_wrapper\n    return fn(*args, **kwargs)\n  File \"/home/carnd/anaconda3/envs/carnd-term1/lib/python3.5/site-packages/ipykernel/kernelbase.py\", line 283, in dispatcher\n    return self.dispatch_shell(stream, msg)\n  File \"/home/carnd/anaconda3/envs/carnd-term1/lib/python3.5/site-packages/ipykernel/kernelbase.py\", line 235, in dispatch_shell\n    handler(stream, idents, msg)\n  File \"/home/carnd/anaconda3/envs/carnd-term1/lib/python3.5/site-packages/ipykernel/kernelbase.py\", line 399, in execute_request\n    user_expressions, allow_stdin)\n  File \"/home/carnd/anaconda3/envs/carnd-term1/lib/python3.5/site-packages/ipykernel/ipkernel.py\", line 196, in do_execute\n    res = shell.run_cell(code, store_history=store_history, silent=silent)\n  File \"/home/carnd/anaconda3/envs/carnd-term1/lib/python3.5/site-packages/ipykernel/zmqshell.py\", line 533, in run_cell\n    return super(ZMQInteractiveShell, self).run_cell(*args, **kwargs)\n  File \"/home/carnd/anaconda3/envs/carnd-term1/lib/python3.5/site-packages/IPython/core/interactiveshell.py\", line 2683, in run_cell\n    interactivity=interactivity, compiler=compiler, result=result)\n  File \"/home/carnd/anaconda3/envs/carnd-term1/lib/python3.5/site-packages/IPython/core/interactiveshell.py\", line 2787, in run_ast_nodes\n    if self.run_code(code, result):\n  File \"/home/carnd/anaconda3/envs/carnd-term1/lib/python3.5/site-packages/IPython/core/interactiveshell.py\", line 2847, in run_code\n    exec(code_obj, self.user_global_ns, self.user_ns)\n  File \"<ipython-input-29-56cd88cea338>\", line 2, in <module>\n    res = model(x)\n  File \"<ipython-input-16-982aa012f917>\", line 9, in model\n    \"cnv1\": tf.Variable(tf.truncated_normal(shape=(5, 5, 1, 32), mean = mu, stddev = sigma)),\n  File \"/home/carnd/anaconda3/envs/carnd-term1/lib/python3.5/site-packages/tensorflow/python/ops/variables.py\", line 224, in __init__\n    expected_shape=expected_shape)\n  File \"/home/carnd/anaconda3/envs/carnd-term1/lib/python3.5/site-packages/tensorflow/python/ops/variables.py\", line 370, in _init_from_args\n    self._snapshot = array_ops.identity(self._variable, name=\"read\")\n  File \"/home/carnd/anaconda3/envs/carnd-term1/lib/python3.5/site-packages/tensorflow/python/ops/gen_array_ops.py\", line 1424, in identity\n    result = _op_def_lib.apply_op(\"Identity\", input=input, name=name)\n  File \"/home/carnd/anaconda3/envs/carnd-term1/lib/python3.5/site-packages/tensorflow/python/framework/op_def_library.py\", line 759, in apply_op\n    op_def=op_def)\n  File \"/home/carnd/anaconda3/envs/carnd-term1/lib/python3.5/site-packages/tensorflow/python/framework/ops.py\", line 2240, in create_op\n    original_op=self._default_original_op, op_def=op_def)\n  File \"/home/carnd/anaconda3/envs/carnd-term1/lib/python3.5/site-packages/tensorflow/python/framework/ops.py\", line 1128, in __init__\n    self._traceback = _extract_stack()\n\nFailedPreconditionError (see above for traceback): Attempting to use uninitialized value Variable_100\n\t [[Node: Variable_100/read = Identity[T=DT_FLOAT, _class=[\"loc:@Variable_100\"], _device=\"/job:localhost/replica:0/task:0/gpu:0\"](Variable_100)]]\n\t [[Node: Relu_54/_323 = _Recv[client_terminated=false, recv_device=\"/job:localhost/replica:0/task:0/cpu:0\", send_device=\"/job:localhost/replica:0/task:0/gpu:0\", send_device_incarnation=1, tensor_name=\"edge_16_Relu_54\", tensor_type=DT_FLOAT, _device=\"/job:localhost/replica:0/task:0/cpu:0\"]()]]\n"
     ]
    }
   ],
   "source": [
    "x = tf.placeholder(tf.float32, (None, 32,32,1))\n",
    "res = model(x)\n",
    "res_l = [None]*5\n",
    "\n",
    "with tf.Session() as sess:\n",
    "    saver.restore(sess, tf.train.latest_checkpoint('.'))\n",
    "    for i in range(5):\n",
    "        res_l[i] = sess.run(res, feed_dict={x:[test_images_g[i]]})\n",
    "print(res_l)"
   ]
  },
  {
   "cell_type": "code",
   "execution_count": null,
   "metadata": {
    "collapsed": true
   },
   "outputs": [],
   "source": []
  }
 ],
 "metadata": {
  "kernelspec": {
   "display_name": "Python 3",
   "language": "python",
   "name": "python3"
  },
  "language_info": {
   "codemirror_mode": {
    "name": "ipython",
    "version": 3
   },
   "file_extension": ".py",
   "mimetype": "text/x-python",
   "name": "python",
   "nbconvert_exporter": "python",
   "pygments_lexer": "ipython3",
   "version": "3.5.2"
  },
  "nbpresent": {
   "slides": {
    "a19fdf2a-2a2e-4d29-aa4e-abfc1b00ea5b": {
     "id": "a19fdf2a-2a2e-4d29-aa4e-abfc1b00ea5b",
     "prev": null,
     "regions": {}
    }
   },
   "themes": {}
  },
  "widgets": {
   "state": {},
   "version": "1.1.2"
  }
 },
 "nbformat": 4,
 "nbformat_minor": 2
}
