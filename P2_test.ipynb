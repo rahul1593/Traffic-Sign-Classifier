{
 "cells": [
  {
   "cell_type": "code",
   "execution_count": 1,
   "metadata": {
    "collapsed": true,
    "nbpresent": {
     "id": "475ad580-fa56-46a5-90ae-1a9f36354934"
    }
   },
   "outputs": [],
   "source": [
    "import pickle\n",
    "import numpy as np\n",
    "import random\n",
    "import matplotlib.pyplot as plt\n",
    "from sklearn.utils import shuffle\n",
    "import tensorflow as tf\n",
    "from tensorflow.contrib.layers import flatten"
   ]
  },
  {
   "cell_type": "code",
   "execution_count": 2,
   "metadata": {
    "collapsed": true,
    "nbpresent": {
     "id": "cc2bafed-e531-4535-af07-b913faa494e0"
    }
   },
   "outputs": [],
   "source": [
    "def rgb2gray(img):\n",
    "    gray = 0.2989*img[:,:,0] + 0.5870*img[:,:,1] + 0.1140*img[:,:,2]\n",
    "    return gray\n"
   ]
  },
  {
   "cell_type": "code",
   "execution_count": 3,
   "metadata": {
    "nbpresent": {
     "id": "f48bc151-a7ff-4203-bd97-9cd31c62607c"
    }
   },
   "outputs": [
    {
     "name": "stdout",
     "output_type": "stream",
     "text": [
      "Number of training examples = 34799\n",
      "Number of testing examples = 12630\n",
      "Image data shape = (32, 32, 3)\n",
      "Number of classes = 43\n",
      "(32, 32, 1)\n"
     ]
    },
    {
     "data": {
      "image/png": "[encoded data removed]",
      "text/plain": [
       "<matplotlib.figure.Figure at 0x7f4faa230f28>"
      ]
     },
     "metadata": {},
     "output_type": "display_data"
    }
   ],
   "source": [
    "# Load pickled data\n",
    "# TODO: Fill this in based on where you saved the training and testing data\n",
    "training_file = 'train.p'\n",
    "validation_file='valid.p'\n",
    "testing_file = 'test.p'\n",
    "\n",
    "with open(training_file, mode='rb') as f:\n",
    "    train = pickle.load(f)\n",
    "with open(validation_file, mode='rb') as f:\n",
    "    valid = pickle.load(f)\n",
    "with open(testing_file, mode='rb') as f:\n",
    "    test = pickle.load(f)\n",
    "    \n",
    "X_train, y_train = train['features'], train['labels']\n",
    "X_valid, y_valid = valid['features'], valid['labels']\n",
    "X_test, y_test = test['features'], test['labels']\n",
    "\n",
    "### Replace each question mark with the appropriate value. \n",
    "### Use python, pandas or numpy methods rather than hard coding the results\n",
    "\n",
    "# TODO: Number of training examples\n",
    "n_train = len(X_train)\n",
    "\n",
    "# TODO: Number of validation examples\n",
    "n_validation = len(X_valid)\n",
    "\n",
    "# TODO: Number of testing examples.\n",
    "n_test = len(X_test)\n",
    "\n",
    "# TODO: What's the shape of an traffic sign image?\n",
    "image_shape = X_train[0].shape\n",
    "\n",
    "# TODO: How many unique classes/labels there are in the dataset.\n",
    "n_classes = np.copy(y_train)\n",
    "n_classes = len(set(n_classes))\n",
    "\n",
    "print(\"Number of training examples =\", n_train)\n",
    "print(\"Number of testing examples =\", n_test)\n",
    "print(\"Image data shape =\", image_shape)\n",
    "print(\"Number of classes =\", n_classes)\n",
    "\n",
    "### Data exploration visualization code goes here.\n",
    "### Feel free to use as many code cells as needed.\n",
    "# Visualizations will be shown in the notebook.\n",
    "%matplotlib inline\n",
    "\n",
    "t_i = []\n",
    "img = []\n",
    "for i in range(4):\n",
    "    t_i.append(random.randint(0, len(X_train)))\n",
    "    img.append(X_train[t_i[-1]].squeeze())\n",
    "\n",
    "fig = plt.figure(figsize=(7,7))\n",
    "for i in range(4):\n",
    "    sf = fig.add_subplot(1, 4, i+1)\n",
    "    plt.imshow(img[i], cmap=\"gray\")\n",
    "    sf.set_title(\"Index: \"+str(y_train[t_i[i]]))\n",
    "\n",
    "### Preprocess the data here. It is required to normalize the data. Other preprocessing steps could include \n",
    "### converting to grayscale\n",
    "\n",
    "X_train = [rgb2gray(img).reshape((32,32,1)) for img in X_train]\n",
    "X_valid = [rgb2gray(img).reshape((32,32,1)) for img in X_valid]\n",
    "X_test = [rgb2gray(img).reshape((32,32,1)) for img in X_test]\n",
    "X_train, y_train = shuffle(X_train, y_train)\n",
    "X_valid, y_valid = shuffle(X_valid, y_valid)\n",
    "X_test, y_test = shuffle(X_test, y_test)\n",
    "\n",
    "#plt.imshow(X_train[0])\n",
    "print(X_train[0].shape)"
   ]
  },
  {
   "cell_type": "code",
   "execution_count": 4,
   "metadata": {
    "collapsed": true
   },
   "outputs": [],
   "source": [
    "### Define your architecture here.\n",
    "### Feel free to use as many code cells as needed.\n",
    "\n",
    "def model(x):\n",
    "    mu = 0\n",
    "    sigma = 0.1\n",
    "    keep_prob = 0.9\n",
    "    weights = {\n",
    "        \"cnv1\": tf.Variable(tf.truncated_normal(shape=(5, 5, 1, 32), mean = mu, stddev = sigma)),\n",
    "        \"cnv2\": tf.Variable(tf.truncated_normal(shape=(3, 3, 32, 32), mean = mu, stddev = sigma)),\n",
    "        \"cnv3\": tf.Variable(tf.truncated_normal(shape=(1568, 512), mean = mu, stddev = sigma)),\n",
    "        \"cnv4\": tf.Variable(tf.truncated_normal(shape=(512, 172), mean = mu, stddev = sigma)),\n",
    "        \"cnv5\": tf.Variable(tf.truncated_normal(shape=(172, n_classes), mean = mu, stddev = sigma))\n",
    "    }\n",
    "    biases = {\n",
    "        'bcv1': tf.Variable(tf.zeros([32])),\n",
    "        'bcv2': tf.Variable(tf.zeros([32])),\n",
    "        'bcv3': tf.Variable(tf.zeros([512])),\n",
    "        'bcv4': tf.Variable(tf.zeros([172])),\n",
    "        'bcv5': tf.Variable(tf.zeros([n_classes]))\n",
    "    }\n",
    "    # Layer 1: Convolutional. Input=32x32x1, Output = 32x32x32\n",
    "    layer = tf.nn.conv2d(x, weights['cnv1'], strides=[1,1,1,1], padding=\"SAME\") + biases['bcv1']\n",
    "    layer = tf.nn.relu(layer)\n",
    "    #Pooling, Input = 32x32x32, Output = 16x16x32\n",
    "    layer = tf.nn.max_pool(layer, ksize=[1,2,2,1], strides=[1,2,2,1], padding=\"SAME\")\n",
    "    \n",
    "    # Layer 2: Convolutional. Input=16x16x32, Output = 14x14x32\n",
    "    layer = tf.nn.conv2d(layer, weights['cnv2'], strides=[1,1,1,1], padding=\"VALID\") + biases['bcv2']\n",
    "    layer = tf.nn.relu(layer)\n",
    "    #Pooling, Input = 14x14x32, Output = 7x7x32\n",
    "    layer = tf.nn.max_pool(layer, ksize=[1,2,2,1], strides=[1,2,2,1], padding=\"SAME\")\n",
    "    \n",
    "    #flatten the image, output = 1568\n",
    "    layer = flatten(layer)\n",
    "    layer = tf.nn.dropout(layer, keep_prob) #keep_prob = 0.9\n",
    "    \n",
    "    #Layer 3: Fully connected Input = 1568, Output = 512\n",
    "    layer = tf.add(tf.matmul(layer, weights['cnv3']), biases['bcv3'])\n",
    "    layer = tf.nn.relu(layer)\n",
    "    \n",
    "    #Layer 4: Fully connected Input = 512, Output = 172\n",
    "    layer = tf.add(tf.matmul(layer, weights['cnv4']), biases['bcv4'])\n",
    "    layer = tf.nn.relu(layer)\n",
    "    layer = tf.nn.dropout(layer, 0.85)\n",
    "    \n",
    "    #Layer 5: Fully connected Input = 172, Output = 43\n",
    "    layer = tf.add(tf.matmul(layer, weights['cnv5']), biases['bcv5'])\n",
    "    logits = tf.nn.relu(layer)\n",
    "    return logits"
   ]
  },
  {
   "cell_type": "code",
   "execution_count": 5,
   "metadata": {
    "scrolled": false
   },
   "outputs": [
    {
     "name": "stdout",
     "output_type": "stream",
     "text": [
      "Training...\n",
      "\n",
      "Epoch 1 ... Validation Accuracy = 0.075\n",
      "Epoch 2 ... Validation Accuracy = 0.147\n",
      "Epoch 3 ... Validation Accuracy = 0.296\n",
      "Epoch 4 ... Validation Accuracy = 0.393\n",
      "Epoch 5 ... Validation Accuracy = 0.496\n",
      "Epoch 6 ... Validation Accuracy = 0.567\n",
      "Epoch 7 ... Validation Accuracy = 0.650\n",
      "Epoch 8 ... Validation Accuracy = 0.705\n",
      "Epoch 9 ... Validation Accuracy = 0.713\n",
      "Epoch 10 ... Validation Accuracy = 0.746\n",
      "Epoch 11 ... Validation Accuracy = 0.779\n",
      "Epoch 12 ... Validation Accuracy = 0.793\n",
      "Epoch 13 ... Validation Accuracy = 0.806\n",
      "Epoch 14 ... Validation Accuracy = 0.819\n",
      "Epoch 15 ... Validation Accuracy = 0.812\n",
      "Epoch 16 ... Validation Accuracy = 0.839\n",
      "Epoch 17 ... Validation Accuracy = 0.827\n",
      "Epoch 18 ... Validation Accuracy = 0.845\n",
      "Epoch 19 ... Validation Accuracy = 0.846\n",
      "Epoch 20 ... Validation Accuracy = 0.850\n",
      "Epoch 21 ... Validation Accuracy = 0.874\n",
      "Epoch 22 ... Validation Accuracy = 0.874\n",
      "Epoch 23 ... Validation Accuracy = 0.868\n",
      "Epoch 24 ... Validation Accuracy = 0.871\n",
      "Epoch 25 ... Validation Accuracy = 0.876\n",
      "Epoch 26 ... Validation Accuracy = 0.883\n",
      "Epoch 27 ... Validation Accuracy = 0.868\n",
      "Epoch 28 ... Validation Accuracy = 0.870\n",
      "Epoch 29 ... Validation Accuracy = 0.888\n",
      "Epoch 30 ... Validation Accuracy = 0.882\n",
      "Epoch 31 ... Validation Accuracy = 0.889\n",
      "Epoch 32 ... Validation Accuracy = 0.883\n",
      "Epoch 33 ... Validation Accuracy = 0.887\n",
      "Epoch 34 ... Validation Accuracy = 0.892\n",
      "Epoch 35 ... Validation Accuracy = 0.905\n",
      "Epoch 36 ... Validation Accuracy = 0.894\n",
      "Epoch 37 ... Validation Accuracy = 0.896\n",
      "Epoch 38 ... Validation Accuracy = 0.904\n",
      "Epoch 39 ... Validation Accuracy = 0.907\n",
      "Epoch 40 ... Validation Accuracy = 0.907\n",
      "Epoch 41 ... Validation Accuracy = 0.907\n",
      "Epoch 42 ... Validation Accuracy = 0.917\n",
      "Epoch 43 ... Validation Accuracy = 0.910\n",
      "Epoch 44 ... Validation Accuracy = 0.906\n",
      "Epoch 45 ... Validation Accuracy = 0.905\n",
      "Epoch 46 ... Validation Accuracy = 0.905\n",
      "Epoch 47 ... Validation Accuracy = 0.912\n",
      "Epoch 48 ... Validation Accuracy = 0.908\n",
      "Epoch 49 ... Validation Accuracy = 0.918\n",
      "Epoch 50 ... Validation Accuracy = 0.905\n",
      "Epoch 51 ... Validation Accuracy = 0.912\n",
      "Epoch 52 ... Validation Accuracy = 0.908\n",
      "Epoch 53 ... Validation Accuracy = 0.915\n",
      "Epoch 54 ... Validation Accuracy = 0.911\n",
      "Epoch 55 ... Validation Accuracy = 0.917\n",
      "Epoch 56 ... Validation Accuracy = 0.917\n",
      "Epoch 57 ... Validation Accuracy = 0.911\n",
      "Epoch 58 ... Validation Accuracy = 0.921\n",
      "Epoch 59 ... Validation Accuracy = 0.921\n",
      "Epoch 60 ... Validation Accuracy = 0.914\n",
      "Epoch 61 ... Validation Accuracy = 0.923\n",
      "Epoch 62 ... Validation Accuracy = 0.916\n",
      "Epoch 63 ... Validation Accuracy = 0.914\n",
      "Epoch 64 ... Validation Accuracy = 0.917\n",
      "Epoch 65 ... Validation Accuracy = 0.922\n",
      "Epoch 66 ... Validation Accuracy = 0.917\n",
      "Epoch 67 ... Validation Accuracy = 0.908\n",
      "Epoch 68 ... Validation Accuracy = 0.918\n",
      "Epoch 69 ... Validation Accuracy = 0.920\n",
      "Epoch 70 ... Validation Accuracy = 0.913\n",
      "Epoch 71 ... Validation Accuracy = 0.928\n",
      "Epoch 72 ... Validation Accuracy = 0.925\n",
      "Epoch 73 ... Validation Accuracy = 0.922\n",
      "Epoch 74 ... Validation Accuracy = 0.927\n",
      "Epoch 75 ... Validation Accuracy = 0.917\n",
      "Epoch 76 ... Validation Accuracy = 0.910\n",
      "Epoch 77 ... Validation Accuracy = 0.916\n",
      "Epoch 78 ... Validation Accuracy = 0.915\n",
      "Epoch 79 ... Validation Accuracy = 0.928\n",
      "Epoch 80 ... Validation Accuracy = 0.922\n",
      "Epoch 81 ... Validation Accuracy = 0.928\n",
      "Epoch 82 ... Validation Accuracy = 0.923\n",
      "Epoch 83 ... Validation Accuracy = 0.926\n",
      "Epoch 84 ... Validation Accuracy = 0.929\n",
      "Epoch 85 ... Validation Accuracy = 0.910\n",
      "Epoch 86 ... Validation Accuracy = 0.928\n",
      "Epoch 87 ... Validation Accuracy = 0.915\n",
      "Epoch 88 ... Validation Accuracy = 0.915\n",
      "Epoch 89 ... Validation Accuracy = 0.921\n",
      "Epoch 90 ... Validation Accuracy = 0.934\n",
      "Epoch 91 ... Validation Accuracy = 0.920\n",
      "Epoch 92 ... Validation Accuracy = 0.926\n",
      "Epoch 93 ... Validation Accuracy = 0.926\n",
      "Epoch 94 ... Validation Accuracy = 0.925\n",
      "Epoch 95 ... Validation Accuracy = 0.920\n",
      "Epoch 96 ... Validation Accuracy = 0.924\n",
      "Epoch 97 ... Validation Accuracy = 0.929\n",
      "Epoch 98 ... Validation Accuracy = 0.927\n",
      "Epoch 99 ... Validation Accuracy = 0.934\n",
      "Epoch 100 ... Validation Accuracy = 0.928\n",
      "Epoch 101 ... Validation Accuracy = 0.928\n",
      "Epoch 102 ... Validation Accuracy = 0.928\n",
      "Epoch 103 ... Validation Accuracy = 0.932\n",
      "Epoch 104 ... Validation Accuracy = 0.922\n",
      "Epoch 105 ... Validation Accuracy = 0.929\n",
      "Epoch 106 ... Validation Accuracy = 0.925\n",
      "Epoch 107 ... Validation Accuracy = 0.915\n",
      "Epoch 108 ... Validation Accuracy = 0.927\n",
      "Epoch 109 ... Validation Accuracy = 0.938\n",
      "Epoch 110 ... Validation Accuracy = 0.923\n",
      "Epoch 111 ... Validation Accuracy = 0.921\n",
      "Epoch 112 ... Validation Accuracy = 0.929\n",
      "Epoch 113 ... Validation Accuracy = 0.905\n",
      "Epoch 114 ... Validation Accuracy = 0.913\n",
      "Epoch 115 ... Validation Accuracy = 0.938\n",
      "Epoch 116 ... Validation Accuracy = 0.934\n",
      "Epoch 117 ... Validation Accuracy = 0.932\n",
      "Epoch 118 ... Validation Accuracy = 0.939\n",
      "Epoch 119 ... Validation Accuracy = 0.930\n",
      "Epoch 120 ... Validation Accuracy = 0.929\n",
      "Epoch 121 ... Validation Accuracy = 0.935\n",
      "Epoch 122 ... Validation Accuracy = 0.928\n",
      "Epoch 123 ... Validation Accuracy = 0.926\n",
      "Epoch 124 ... Validation Accuracy = 0.945\n",
      "Epoch 125 ... Validation Accuracy = 0.939\n",
      "Epoch 126 ... Validation Accuracy = 0.937\n",
      "Epoch 127 ... Validation Accuracy = 0.936\n",
      "Epoch 128 ... Validation Accuracy = 0.934\n",
      "Epoch 129 ... Validation Accuracy = 0.938\n",
      "Epoch 130 ... Validation Accuracy = 0.939\n",
      "Epoch 131 ... Validation Accuracy = 0.932\n",
      "Epoch 132 ... Validation Accuracy = 0.928\n",
      "Epoch 133 ... Validation Accuracy = 0.932\n",
      "Epoch 134 ... Validation Accuracy = 0.920\n",
      "Epoch 135 ... Validation Accuracy = 0.928\n",
      "Epoch 136 ... Validation Accuracy = 0.931\n",
      "Epoch 137 ... Validation Accuracy = 0.927\n",
      "Epoch 138 ... Validation Accuracy = 0.941\n",
      "Epoch 139 ... Validation Accuracy = 0.937\n",
      "Epoch 140 ... Validation Accuracy = 0.932\n",
      "Epoch 141 ... Validation Accuracy = 0.935\n",
      "Epoch 142 ... Validation Accuracy = 0.937\n",
      "Epoch 143 ... Validation Accuracy = 0.924\n",
      "Epoch 144 ... Validation Accuracy = 0.926\n",
      "Epoch 145 ... Validation Accuracy = 0.935\n",
      "Epoch 146 ... Validation Accuracy = 0.932\n",
      "Epoch 147 ... Validation Accuracy = 0.936\n",
      "Epoch 148 ... Validation Accuracy = 0.930\n",
      "Epoch 149 ... Validation Accuracy = 0.937\n",
      "Epoch 150 ... Validation Accuracy = 0.928\n",
      "Epoch 151 ... Validation Accuracy = 0.929\n",
      "Epoch 152 ... Validation Accuracy = 0.937\n",
      "Epoch 153 ... Validation Accuracy = 0.936\n",
      "Epoch 154 ... Validation Accuracy = 0.936\n",
      "Epoch 155 ... Validation Accuracy = 0.939\n",
      "Epoch 156 ... Validation Accuracy = 0.937\n",
      "Epoch 157 ... Validation Accuracy = 0.931\n",
      "Epoch 158 ... Validation Accuracy = 0.943\n",
      "Epoch 159 ... Validation Accuracy = 0.937\n",
      "Epoch 160 ... Validation Accuracy = 0.916\n",
      "Epoch 161 ... Validation Accuracy = 0.931\n",
      "Epoch 162 ... Validation Accuracy = 0.933\n",
      "Epoch 163 ... Validation Accuracy = 0.929\n",
      "Epoch 164 ... Validation Accuracy = 0.927\n",
      "Epoch 165 ... Validation Accuracy = 0.937\n",
      "Epoch 166 ... Validation Accuracy = 0.940\n",
      "Epoch 167 ... Validation Accuracy = 0.939\n",
      "Epoch 168 ... Validation Accuracy = 0.931\n",
      "Epoch 169 ... Validation Accuracy = 0.943\n",
      "Epoch 170 ... Validation Accuracy = 0.943\n",
      "Epoch 171 ... Validation Accuracy = 0.927\n",
      "Epoch 172 ... Validation Accuracy = 0.936\n",
      "Epoch 173 ... Validation Accuracy = 0.931\n",
      "Epoch 174 ... Validation Accuracy = 0.937\n",
      "Epoch 175 ... Validation Accuracy = 0.927\n",
      "Epoch 176 ... Validation Accuracy = 0.930\n",
      "Epoch 177 ... Validation Accuracy = 0.937\n",
      "Epoch 178 ... Validation Accuracy = 0.941\n",
      "Epoch 179 ... Validation Accuracy = 0.941\n",
      "Epoch 180 ... Validation Accuracy = 0.929\n",
      "Epoch 181 ... Validation Accuracy = 0.932\n",
      "Epoch 182 ... Validation Accuracy = 0.928\n",
      "Epoch 183 ... Validation Accuracy = 0.932\n",
      "Epoch 184 ... Validation Accuracy = 0.941\n",
      "Epoch 185 ... Validation Accuracy = 0.936\n",
      "Epoch 186 ... Validation Accuracy = 0.933\n",
      "Epoch 187 ... Validation Accuracy = 0.933\n",
      "Epoch 188 ... Validation Accuracy = 0.928\n",
      "Epoch 189 ... Validation Accuracy = 0.930\n",
      "Epoch 190 ... Validation Accuracy = 0.932\n",
      "Epoch 191 ... Validation Accuracy = 0.937\n",
      "Epoch 192 ... Validation Accuracy = 0.945\n",
      "Epoch 193 ... Validation Accuracy = 0.939\n",
      "Epoch 194 ... Validation Accuracy = 0.935\n",
      "Epoch 195 ... Validation Accuracy = 0.940\n",
      "Epoch 196 ... Validation Accuracy = 0.926\n",
      "Epoch 197 ... Validation Accuracy = 0.928\n",
      "Epoch 198 ... Validation Accuracy = 0.938\n"
     ]
    },
    {
     "name": "stdout",
     "output_type": "stream",
     "text": [
      "Epoch 199 ... Validation Accuracy = 0.929\n",
      "Epoch 200 ... Validation Accuracy = 0.938\n",
      "Model saved\n"
     ]
    },
    {
     "data": {
      "image/png": "[encoded data removed]",
      "text/plain": [
       "<matplotlib.figure.Figure at 0x7f4fa968a3c8>"
      ]
     },
     "metadata": {},
     "output_type": "display_data"
    }
   ],
   "source": [
    "### Train your model here.\n",
    "### Calculate and report the accuracy on the training and validation set.\n",
    "### Once a final model architecture is selected, \n",
    "### the accuracy on the test set should be calculated and reported as well.\n",
    "### Feel free to use as many code cells as needed.\n",
    "x = tf.placeholder(tf.float32, (None, 32,32,1))\n",
    "y = tf.placeholder(tf.int32, (None))\n",
    "one_hot_y = tf.one_hot(y, n_classes)\n",
    "\n",
    "rate = 0.000361\n",
    "MAX_EPOCHS = 200\n",
    "BATCH_SIZE = 128\n",
    "#dropout = 0.80\n",
    "\n",
    "logits = model(x)\n",
    "cross_entropy = tf.nn.softmax_cross_entropy_with_logits(labels=one_hot_y, logits=logits)\n",
    "loss_operation = tf.reduce_mean(cross_entropy)\n",
    "optimizer = tf.train.AdamOptimizer(learning_rate = rate)\n",
    "training_operation = optimizer.minimize(loss_operation)\n",
    "\n",
    "# Evaluation\n",
    "correct_prediction = tf.equal(tf.argmax(logits, 1), tf.argmax(one_hot_y, 1))\n",
    "accuracy_operation = tf.reduce_mean(tf.cast(correct_prediction, tf.float32))\n",
    "saver = tf.train.Saver()\n",
    "\n",
    "def evaluate(X_data, y_data):\n",
    "    num_examples = len(X_data)\n",
    "    total_accuracy = 0\n",
    "    sess = tf.get_default_session()\n",
    "    for offset in range(0, num_examples, BATCH_SIZE):\n",
    "        batch_x, batch_y = X_data[offset:offset+BATCH_SIZE], y_data[offset:offset+BATCH_SIZE]\n",
    "        accuracy = sess.run(accuracy_operation, feed_dict={x: batch_x, y: batch_y})\n",
    "        total_accuracy += (accuracy * len(batch_x))\n",
    "    return total_accuracy / num_examples\n",
    "\n",
    "ac_list = []\n",
    "c_epoch = 0\n",
    "with tf.Session() as sess:\n",
    "    sess.run(tf.global_variables_initializer())\n",
    "    num_examples = len(X_train)\n",
    "    \n",
    "    print(\"Training...\")\n",
    "    print()\n",
    "    #for i in range(EPOCHS):\n",
    "    while True:\n",
    "        if c_epoch >= MAX_EPOCHS:\n",
    "            break\n",
    "        c_epoch += 1\n",
    "        X_train, y_train = shuffle(X_train, y_train)\n",
    "        for offset in range(0, num_examples, BATCH_SIZE):\n",
    "            end = offset + BATCH_SIZE\n",
    "            batch_x, batch_y = X_train[offset:end], y_train[offset:end]\n",
    "            sess.run(training_operation, feed_dict={x: batch_x, y: batch_y})\n",
    "            \n",
    "        validation_accuracy = evaluate(X_valid, y_valid)\n",
    "        print(\"Epoch {} ...\".format(c_epoch), \"Validation Accuracy = {:.3f}\".format(validation_accuracy))\n",
    "        #print(validation_accuracy.round(3))\n",
    "        ac_list.append(validation_accuracy)\n",
    "        if validation_accuracy > 0.955:\n",
    "            break\n",
    "        \n",
    "    saver.save(sess, './model')\n",
    "    print(\"Model saved\")\n",
    "    \n",
    "plt.plot(list(range(1, c_epoch)), [ac_list[i] for i in range(1, c_epoch)], 'b')\n",
    "plt.axis([1, c_epoch, 1, 0])\n",
    "plt.xlabel(\"Epochs\")\n",
    "plt.ylabel(\"Error\")\n",
    "plt.show()"
   ]
  },
  {
   "cell_type": "code",
   "execution_count": 6,
   "metadata": {},
   "outputs": [
    {
     "name": "stdout",
     "output_type": "stream",
     "text": [
      "Test Accuracy = 0.923\n"
     ]
    }
   ],
   "source": [
    "with tf.Session() as sess:\n",
    "    saver.restore(sess, tf.train.latest_checkpoint('.'))\n",
    "\n",
    "    test_accuracy = evaluate(X_test, y_test)\n",
    "    print(\"Test Accuracy = {:.3f}\".format(test_accuracy))\n"
   ]
  },
  {
   "cell_type": "markdown",
   "metadata": {
    "collapsed": true
   },
   "source": [
    "### Test with new images"
   ]
  },
  {
   "cell_type": "code",
   "execution_count": 7,
   "metadata": {},
   "outputs": [
    {
     "data": {
      "image/png": "[encoded data removed]",
      "text/plain": [
       "<matplotlib.figure.Figure at 0x7f4fa98746a0>"
      ]
     },
     "metadata": {},
     "output_type": "display_data"
    }
   ],
   "source": [
    "import matplotlib.image as mpimg\n",
    "from PIL import Image\n",
    "test_img_dir = \"./test_images/\"\n",
    "test_img_names = [\"img1.jpg\", \"img2.jpg\", \"img3.jpg\", \"img4.jpg\", \"img5.jpg\"]\n",
    "\n",
    "test_images = []\n",
    "test_images_g = []\n",
    "for i in range(5):\n",
    "    img = Image.open(test_img_dir+test_img_names[i])\n",
    "    resized_img = img.resize((32, 32))\n",
    "    resized_arr = np.asarray(resized_img)\n",
    "    test_images.append(resized_arr)\n",
    "    resized_arr = rgb2gray(resized_arr).reshape((32,32,1))\n",
    "    test_images_g.append(resized_arr)\n",
    "    \n",
    "\n",
    "fig = plt.figure(figsize=(7,7))\n",
    "for i in range(5):\n",
    "    sf = fig.add_subplot(2, 3, i+1)\n",
    "    plt.imshow(test_images[i], cmap=\"gray\")\n",
    "    #sf.set_title(\"Image Title\")"
   ]
  },
  {
   "cell_type": "code",
   "execution_count": 8,
   "metadata": {},
   "outputs": [
    {
     "name": "stdout",
     "output_type": "stream",
     "text": [
      "[array([[  0.        ,  24.74723434,  48.97115707,   8.11941338,\n",
      "         10.97124195,   0.        ,   0.        ,   0.        ,\n",
      "          0.        ,   0.        ,   0.        ,  95.95413971,\n",
      "          0.        ,   0.        ,   0.        ,   0.        ,\n",
      "          0.        ,   0.        ,  97.95617676,   0.        ,\n",
      "          0.        ,   8.09154224,   0.        ,  20.12672043,\n",
      "          0.        ,  11.32478428,   0.        ,   0.        ,\n",
      "          0.        ,   0.        ,   0.        ,   0.        ,\n",
      "          0.        ,   0.        ,   0.        ,   0.        ,\n",
      "          0.        ,   0.        ,   0.        ,   0.        ,\n",
      "         27.75099373,   0.        ,   0.        ]], dtype=float32), array([[  0.        ,   0.        ,   0.        ,  18.49401093,\n",
      "          0.        ,   0.        ,   0.        ,   0.        ,\n",
      "          0.        ,   0.        ,   9.25421715,   5.57152796,\n",
      "          7.15805864,  15.054039  ,   0.        ,   0.        ,\n",
      "          0.        ,   0.        ,   0.        ,   0.        ,\n",
      "          0.0739606 ,   0.        ,   0.        ,   0.        ,\n",
      "          0.        ,  21.89226151,   0.        ,   0.        ,\n",
      "          0.        ,   0.        ,   0.        ,   0.        ,\n",
      "          0.        ,   7.65207815,   0.        ,  47.11365509,\n",
      "          7.12941122,   0.50538141,   3.15144253,   0.        ,\n",
      "          0.        ,   0.        ,   0.        ]], dtype=float32), array([[  0.        ,   0.        ,   0.        ,   0.        ,\n",
      "          0.        ,   0.        ,   0.        ,   0.        ,\n",
      "          0.        ,   0.        ,   0.        ,   0.        ,\n",
      "         23.63832664,   6.4618187 ,   0.        ,   2.1732676 ,\n",
      "          0.        ,   0.        ,   0.        ,   0.        ,\n",
      "          0.        ,   0.        ,   3.15149069,   0.        ,\n",
      "          0.        ,  26.68383598,   2.61296535,   0.        ,\n",
      "          0.        ,   0.        ,   0.        ,   0.        ,\n",
      "          0.        ,  17.23675728,   0.        ,   0.        ,\n",
      "          0.        ,   0.        ,  18.16198158,   0.        ,\n",
      "          0.        ,   0.        ,   0.        ]], dtype=float32), array([[  0.        ,   0.        ,   0.        ,   0.        ,\n",
      "          1.86129773,   0.        ,   0.        ,   0.        ,\n",
      "          0.        ,   0.        ,   0.        ,   0.        ,\n",
      "          5.34177828,  11.96034718,   5.81154251,  16.57610321,\n",
      "          0.        ,   0.        ,   0.        ,   0.        ,\n",
      "          0.        ,   0.        ,   0.        ,   0.        ,\n",
      "          0.        ,   0.        ,   0.        ,   0.        ,\n",
      "          0.        ,   0.        ,   0.        ,   0.        ,\n",
      "          0.        ,  13.0379324 ,   7.73181438,  10.04519939,\n",
      "          0.        ,   0.        ,   1.15118897,   0.        ,\n",
      "          0.        ,   0.        ,   0.        ]], dtype=float32), array([[  0.        ,   0.        ,   9.89933109,   0.        ,\n",
      "          0.        ,   0.        ,   0.        ,   0.        ,\n",
      "          0.        ,   0.        ,   0.        ,  42.11431122,\n",
      "          0.        ,   0.        ,   0.        ,   0.        ,\n",
      "          0.        ,   0.        ,  52.31748962,   0.        ,\n",
      "          0.        ,   0.        ,   0.        ,   0.        ,\n",
      "          0.        ,   0.        ,   0.        ,   0.92550904,\n",
      "          0.        ,   0.        ,   0.        ,   0.        ,\n",
      "          0.        ,   0.        ,   0.        ,   0.        ,\n",
      "          0.        ,   0.        ,   0.        ,   0.        ,\n",
      "          0.        ,   0.        ,   0.        ]], dtype=float32)]\n"
     ]
    }
   ],
   "source": [
    "#restore variable state from saved model\n",
    "#saver = tf.train.Saver()\n",
    "res_l = [None]*5\n",
    "\n",
    "with tf.Session() as sess:\n",
    "    saver = tf.train.import_meta_graph('model.meta')\n",
    "    saver.restore(sess, tf.train.latest_checkpoint('./'))\n",
    "    #saver.restore(sess, \"model\")\n",
    "    for i in range(5):\n",
    "        res_l[i] = sess.run(logits, feed_dict={x:test_images_g[i:i+1]})\n"
   ]
  },
  {
   "cell_type": "code",
   "execution_count": 24,
   "metadata": {},
   "outputs": [
    {
     "name": "stdout",
     "output_type": "stream",
     "text": [
      "[[(42, 97.956177), (41, 95.95414), (40, 48.971157), (39, 27.750994), (38, 24.747234)], [(35, 47.113655), (25, 21.892262), (3, 18.494011), (13, 15.054039), (10, 9.2542171)], [(25, 26.683836), (12, 23.638327), (38, 18.161982), (33, 17.236757), (13, 6.4618187)], [(15, 16.576103), (33, 13.037932), (13, 11.960347), (35, 10.045199), (34, 7.7318144)], [(18, 52.31749), (11, 42.114311), (2, 9.8993311), (27, 0.92550904), (42, 0.0)]]\n"
     ]
    }
   ],
   "source": [
    "tpf_p_l = [None]*5\n",
    "for i in range(5):\n",
    "    tpf_p = []\n",
    "    tpf_d = {}\n",
    "    pb = res_l[i][0]\n",
    "    for p in range(len(pb)):\n",
    "        tpf_p.append(pb[p])\n",
    "        tpf_d[pb[p]] = p \n",
    "    tpf_p.sort(reverse=True)\n",
    "    #print(tpf_p)\n",
    "    tpf_p_l[i] = []\n",
    "    itm_l = []\n",
    "    for j in range(5):\n",
    "        tpf_p_l[i].append(tpf_d[tpf_p[j]])\n",
    "        itm_l.append(tpf_p[j])\n",
    "    tpf_p_l[i] = list(zip(tpf_p_l[i], itm_l))\n",
    "print(tpf_p_l)\n"
   ]
  },
  {
   "cell_type": "code",
   "execution_count": 37,
   "metadata": {},
   "outputs": [],
   "source": [
    "file = open(\"signames.csv\", 'r')\n",
    "txt = file.read().split('\\n')[1:]\n",
    "file.close()\n",
    "signs = []\n",
    "for line in txt:\n",
    "    signs.append(line.split(',')[-1])"
   ]
  },
  {
   "cell_type": "code",
   "execution_count": 40,
   "metadata": {},
   "outputs": [
    {
     "data": {
      "image/png": "[encoded data removed]",
      "text/plain": [
       "<matplotlib.figure.Figure at 0x7f4fa3c85d68>"
      ]
     },
     "metadata": {},
     "output_type": "display_data"
    },
    {
     "name": "stdout",
     "output_type": "stream",
     "text": [
      "End of no passing by vehicles over 3.5 metric tons : 97.9562\n",
      "End of no passing : 95.9541\n",
      "Roundabout mandatory : 48.9712\n",
      "Keep left : 27.751\n",
      "Keep right : 24.7472\n",
      "-----------------------\n"
     ]
    },
    {
     "data": {
      "image/png": "[encoded data removed]",
      "text/plain": [
       "<matplotlib.figure.Figure at 0x7f4fa3d2fd68>"
      ]
     },
     "metadata": {},
     "output_type": "display_data"
    },
    {
     "name": "stdout",
     "output_type": "stream",
     "text": [
      "Ahead only : 47.1137\n",
      "Road work : 21.8923\n",
      "Speed limit (60km/h) : 18.494\n",
      "Yield : 15.054\n",
      "No passing for vehicles over 3.5 metric tons : 9.25422\n",
      "-----------------------\n"
     ]
    },
    {
     "data": {
      "image/png": "[encoded data removed]",
      "text/plain": [
       "<matplotlib.figure.Figure at 0x7f4fa3de3e48>"
      ]
     },
     "metadata": {},
     "output_type": "display_data"
    },
    {
     "name": "stdout",
     "output_type": "stream",
     "text": [
      "Road work : 26.6838\n",
      "Priority road : 23.6383\n",
      "Keep right : 18.162\n",
      "Turn right ahead : 17.2368\n",
      "Yield : 6.46182\n",
      "-----------------------\n"
     ]
    },
    {
     "data": {
      "image/png": "[encoded data removed]",
      "text/plain": [
       "<matplotlib.figure.Figure at 0x7f4fa3dd99e8>"
      ]
     },
     "metadata": {},
     "output_type": "display_data"
    },
    {
     "name": "stdout",
     "output_type": "stream",
     "text": [
      "No vehicles : 16.5761\n",
      "Turn right ahead : 13.0379\n",
      "Yield : 11.9603\n",
      "Ahead only : 10.0452\n",
      "Turn left ahead : 7.73181\n",
      "-----------------------\n"
     ]
    },
    {
     "data": {
      "image/png": "[encoded data removed]",
      "text/plain": [
       "<matplotlib.figure.Figure at 0x7f4fa66214a8>"
      ]
     },
     "metadata": {},
     "output_type": "display_data"
    },
    {
     "name": "stdout",
     "output_type": "stream",
     "text": [
      "General caution : 52.3175\n",
      "Right-of-way at the next intersection : 42.1143\n",
      "Speed limit (50km/h) : 9.89933\n",
      "Pedestrians : 0.925509\n",
      "End of no passing by vehicles over 3.5 metric tons : 0.0\n",
      "-----------------------\n"
     ]
    }
   ],
   "source": [
    "#Display votes\n",
    "fig = plt.figure(figsize=(7,7))\n",
    "for i in range(5):\n",
    "    sf = fig.add_subplot(5, 1, i+1)\n",
    "    plt.imshow(test_images[i], cmap=\"gray\")\n",
    "    plt.show()\n",
    "    for v in tpf_p_l[i]:\n",
    "        print(signs[v[0]],\":\",v[1])\n",
    "    print('-----------------------')"
   ]
  },
  {
   "cell_type": "code",
   "execution_count": null,
   "metadata": {
    "collapsed": true
   },
   "outputs": [],
   "source": []
  }
 ],
 "metadata": {
  "kernelspec": {
   "display_name": "Python 3",
   "language": "python",
   "name": "python3"
  },
  "language_info": {
   "codemirror_mode": {
    "name": "ipython",
    "version": 3
   },
   "file_extension": ".py",
   "mimetype": "text/x-python",
   "name": "python",
   "nbconvert_exporter": "python",
   "pygments_lexer": "ipython3",
   "version": "3.5.2"
  },
  "nbpresent": {
   "slides": {
    "a19fdf2a-2a2e-4d29-aa4e-abfc1b00ea5b": {
     "id": "a19fdf2a-2a2e-4d29-aa4e-abfc1b00ea5b",
     "prev": null,
     "regions": {}
    }
   },
   "themes": {}
  },
  "widgets": {
   "state": {},
   "version": "1.1.2"
  }
 },
 "nbformat": 4,
 "nbformat_minor": 2
}
