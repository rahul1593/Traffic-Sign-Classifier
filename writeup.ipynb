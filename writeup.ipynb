{
 "cells": [
  {
   "cell_type": "markdown",
   "metadata": {},
   "source": [
    "# Traffic Sign Recognition"
   ]
  },
  {
   "cell_type": "markdown",
   "metadata": {},
   "source": [
    "## Overview"
   ]
  },
  {
   "cell_type": "markdown",
   "metadata": {},
   "source": [
    "This project aims at recognising and classifying german traffic signs.\n",
    "\n",
    "The steps of this project are the following:\n",
    "* Load the dataset\n",
    "* Summarize, explore and Visualize the dataset\n",
    "* Design, train and test a model architecture\n",
    "* Use the model to make predictions on new images\n",
    "* Analyze the softmax probabilities of the new images\n",
    "\n",
    "This project also includes visualization of the neural network."
   ]
  },
  {
   "cell_type": "markdown",
   "metadata": {},
   "source": [
    "## Data Set Summary & Exploration"
   ]
  },
  {
   "cell_type": "markdown",
   "metadata": {},
   "source": [
    "Dataset used in this project contains RGB images of german traffic signs' of size 32x32 pixels.\n",
    "\n",
    "Following are details acquired by using inbuilt functions in python:\n",
    "1. Number of images in training set: 34799\n",
    "2. Number of images in validation set: 4410\n",
    "3. Number of images in test set: 12630\n",
    "4. Shape of the images: (32, 32, 3)\n",
    "5. Number of unique classes/labels in dataset: 43\n",
    "\n",
    "Following chart shows the distribution of images in different classes in training set:\n",
    "<img  align=\"left\" src=\"exp/dataDistribution.png\" alt=\"Dataset distribution\"/>"
   ]
  },
  {
   "cell_type": "markdown",
   "metadata": {},
   "source": [
    "Following are few random images from the training dataset:\n",
    "\n",
    "<img  align=\"left\" src=\"exp/trainingImages.png\" alt=\"image\"/>"
   ]
  },
  {
   "cell_type": "markdown",
   "metadata": {},
   "source": [
    "It can be observed in the images that there is no useful information near the edges. Images in the dataset are taken in different lighting conditions. Number of rotated images is negligible."
   ]
  },
  {
   "cell_type": "markdown",
   "metadata": {},
   "source": [
    "## Design and Test a Model Architecture"
   ]
  },
  {
   "cell_type": "markdown",
   "metadata": {},
   "source": [
    "The model architecture consists of the following components:\n",
    "* Data pre-processing\n",
    "* Model architecture\n",
    "* Training the model\n",
    "* Output of the model"
   ]
  },
  {
   "cell_type": "markdown",
   "metadata": {},
   "source": [
    "### Data Pre-processing"
   ]
  },
  {
   "cell_type": "markdown",
   "metadata": {},
   "source": [
    "Dataset consists of 32x32 pixels RGB images of German traffic signs. Shape of the images in this case is more important than the color. So, even if images are taken in different lighting conditions, shape can still match. So, following pre-processing is done on the source images:\n",
    "* Convert to grayscale (32x32) and reshape to 32x32x1\n",
    "* Shuffle the data set\n",
    "\n",
    "Following is the snapshot of an image before and after grayscaling:\n",
    "<table align=\"left\">\n",
    "<tr>\n",
    "    <td><img src=\"exp/img_original.png\", alt=\"Original Image\"/></td>\n",
    "    <td><img src=\"exp/img_grayscale.png\", alt=\"Grayscale Image\"/></td>\n",
    "</tr>\n",
    "</table>"
   ]
  },
  {
   "cell_type": "markdown",
   "metadata": {},
   "source": [
    "Shuffling the data helps in randomising the training process each time when model is run."
   ]
  },
  {
   "cell_type": "markdown",
   "metadata": {},
   "source": [
    "### Model Architecture"
   ]
  },
  {
   "cell_type": "markdown",
   "metadata": {},
   "source": [
    "The model consists of the following layers:\n",
    "\n",
    "<table align=\"left\" style=\"border:1px solid #cccccc\">\n",
    "<thead>\n",
    "    <tr style=\"border-bottom:1px solid #cccccc\">\n",
    "        <th style=\"text-align:center;border-right:1px solid #cccccc\">Layer</th>\n",
    "        <th style=\"text-align:center\">Description</th>\n",
    "    </tr>\n",
    "</thead>\n",
    "<tbody>\n",
    "    <tr style=\"border-bottom:1px solid #cccccc\">\n",
    "        <td style=\"text-align:center;border-right:1px solid #cccccc\">Input</td>\n",
    "        <td style=\"text-align:center\">Grayscale image reshaped to 32x32x1</td>\n",
    "    </tr>\n",
    "    <tr style=\"border-bottom:1px solid #cccccc\">\n",
    "        <td style=\"text-align:center;border-right:1px solid #cccccc\">Convolution 5x5</td>\n",
    "        <td style=\"text-align:center\">1x1 stride, VALID padding, output 28x28x32</td>\n",
    "    </tr>\n",
    "    <tr style=\"border-bottom:1px solid #cccccc\">\n",
    "        <td style=\"text-align:center;border-right:1px solid #cccccc\">RELU</td><td></td>\n",
    "    </tr>\n",
    "    <tr style=\"border-bottom:1px solid #cccccc\">\n",
    "        <td style=\"text-align:center;border-right:1px solid #cccccc\">Max pooling 5x5</td>\n",
    "        <td style=\"text-align:center\">2x2 stride, SAME, padding, output 14x14x32</td>\n",
    "    </tr>\n",
    "    <tr style=\"border-bottom:1px solid #cccccc\">\n",
    "        <td style=\"text-align:center;border-right:1px solid #cccccc\">Convolution 5x5</td>\n",
    "        <td style=\"text-align:center\">1x1 stride, SAME padding, output 14x14x64</td>\n",
    "    </tr>\n",
    "    <tr style=\"border-bottom:1px solid #cccccc\">\n",
    "        <td style=\"text-align:center;border-right:1px solid #cccccc\">RELU</td><td></td>\n",
    "    </tr>\n",
    "    <tr style=\"border-bottom:1px solid #cccccc\">\n",
    "        <td style=\"text-align:center;border-right:1px solid #cccccc\">Max pooling 5x5</td>\n",
    "        <td style=\"text-align:center\">2x2 stride, SAME padding, output 7x7x64</td>\n",
    "    </tr>\n",
    "    <tr style=\"border-bottom:1px solid #cccccc\">\n",
    "        <td style=\"text-align:center;border-right:1px solid #cccccc\">Flatten</td>\n",
    "        <td style=\"text-align:center\">output 3136</td>\n",
    "    </tr>\n",
    "    <tr style=\"border-bottom:1px solid #cccccc\">\n",
    "        <td style=\"text-align:center;border-right:1px solid #cccccc\">Dropout</td>\n",
    "        <td style=\"text-align:center\">Keep probability 0.9</td>\n",
    "    </tr>\n",
    "    <tr style=\"border-bottom:1px solid #cccccc\">\n",
    "        <td style=\"text-align:center;border-right:1px solid #cccccc\">Fully Connected</td>\n",
    "        <td style=\"text-align:center\">output 1024</td>\n",
    "    </tr>\n",
    "    <tr style=\"border-bottom:1px solid #cccccc\">\n",
    "        <td style=\"text-align:center;border-right:1px solid #cccccc\">RELU</td><td></td>\n",
    "    </tr>\n",
    "    <tr style=\"border-bottom:1px solid #cccccc\">\n",
    "        <td style=\"text-align:center;border-right:1px solid #cccccc\">Fully Connected</td>\n",
    "        <td style=\"text-align:center\">output 172</td>\n",
    "    </tr>\n",
    "    <tr style=\"border-bottom:1px solid #cccccc\">\n",
    "        <td style=\"text-align:center;border-right:1px solid #cccccc\">RELU</td><td></td>\n",
    "    </tr>\n",
    "    <tr style=\"border-bottom:1px solid #cccccc\">\n",
    "        <td style=\"text-align:center;border-right:1px solid #cccccc\">Dropout</td>\n",
    "        <td style=\"text-align:center\">Keep probability 0.85</td>\n",
    "    </tr>\n",
    "    <tr style=\"border-bottom:1px solid #cccccc\">\n",
    "        <td style=\"text-align:center;border-right:1px solid #cccccc\">Fully Connected</td>\n",
    "        <td style=\"text-align:center\">output 43</td>\n",
    "    </tr>\n",
    "    <tr style=\"border-bottom:1px solid #cccccc\">\n",
    "        <td style=\"text-align:center;border-right:1px solid #cccccc\">RELU</td><td></td>\n",
    "    </tr>\n",
    "</tbody>\n",
    "</table>"
   ]
  },
  {
   "cell_type": "markdown",
   "metadata": {},
   "source": [
    "### Training the Model"
   ]
  },
  {
   "cell_type": "markdown",
   "metadata": {},
   "source": [
    "To train the model, I used Adam Optimizer since it the newest and works well in reaching higher accuracies quickly. It combines the benefits of AdaGrad and RMSProp algorithms.\n",
    "\n",
    "Initially I started with a learning rate of 0.01. In first 10 epochs, it resulted in accuracy of around 0.3-0.5 reaching to 0.8 with 30 epochs. This meant that the learning rate was very high. So, I reduced it to 0.001 which was still high since it could not help to attain validation accuracy of above 0.88.\n",
    "\n",
    "So, after much trial, following are the hyperparameters which were used in final model:\n",
    "* Learning rate    : 0.000361\n",
    "* Batch size       : 128\n",
    "* Maximum epochs   : 200\n",
    "\n",
    "Actual number of epochs depend on the point where accuracy of above 0.955 is reached. Whenever the model reaches the validation accuracy of 0.955 or above, the model stops training."
   ]
  },
  {
   "cell_type": "markdown",
   "metadata": {},
   "source": [
    "### Output of the Model"
   ]
  },
  {
   "cell_type": "markdown",
   "metadata": {},
   "source": [
    "Final results of this model are:\n",
    "* training set accuracy of 0.9987\n",
    "* validation set accuracy of 0.9599\n",
    "* test set accuracy of 0.941\n",
    "\n",
    "This model was built by taking Lenet model as base. But since it had very few filters in both the convolutional layers it had, it could not reach accuracies above 0.8 and result was underfitting.\n",
    "\n",
    "To avoid underfitting, I added more convolutional layers while slowly increasing the number of filters and decreasing the size of the filter. But it eventually resulted in a slower learning process for model with minute gains in validation accuracy.\n",
    "\n",
    "So, instead of adding more convolutional layers, I increased the number of filters in both convolutional layers in the initial LeNet architecture to 32 and 64. Size of both filters was 5x5. Also I increased keep probability to 0.9 in dropout after flattening layer. This helped properties having high probability of being correct to get passed to subsequent layer. The size of input of last fully connected layer was set to 172 which is 4 times 43, where 43 is the number of output classes. Keeping this size also helped in reaching higher accuracies while training.\n",
    "\n",
    "These modifications worked well and along with precise choice of other hyperparameters, the model was able to attain validation accuracies above 0.93. To avoid overfitting, I limited the epochs to 200. If model reached above 0.955 validation accuracy, it must stop training because till the model completes 200 epochs the accuracy might not improve at all."
   ]
  },
  {
   "cell_type": "markdown",
   "metadata": {},
   "source": [
    "## Test Model on New Images"
   ]
  },
  {
   "cell_type": "markdown",
   "metadata": {},
   "source": [
    "### New Images"
   ]
  },
  {
   "cell_type": "markdown",
   "metadata": {},
   "source": [
    "Here are five German traffic signs that I found on the web:\n",
    "\n",
    "<table align=\"left\">\n",
    "    <tr>\n",
    "        <td style=\"text-align:center\">\n",
    "            <img src=\"test_images/img1.jpg\", alt=\"Original Image\" style=\"height:200px;width:200px\"/>\n",
    "            <label>Image1: Road Work</label>\n",
    "        </td>\n",
    "        <td style=\"text-align:center\">\n",
    "            <img src=\"test_images/img2.jpg\", alt=\"Grayscale Image\" style=\"height:200px;width:200px\"/>\n",
    "            <label>Image2: Pedestrians</label>\n",
    "        </td>\n",
    "        <td style=\"text-align:center\">\n",
    "            <img src=\"test_images/img3.jpg\", alt=\"Original Image\" style=\"height:200px;width:200px\"/>\n",
    "            <label>Image3: Children crossing</label>\n",
    "        </td>\n",
    "    </tr>\n",
    "    <tr>\n",
    "        <td style=\"text-align:center\">\n",
    "            <img src=\"test_images/img4.jpg\", alt=\"Grayscale Image\" style=\"height:200px;width:200px\"/>\n",
    "            <label>Image4: Turn right ahead</label>\n",
    "        </td>\n",
    "        <td style=\"text-align:center\">\n",
    "            <img src=\"test_images/img5.jpg\", alt=\"Original Image\" style=\"height:200px;width:200px\"/>\n",
    "            <label>Image5: Road Work</label>\n",
    "        </td>\n",
    "        <td></td>\n",
    "    </tr>\n",
    "</table>"
   ]
  },
  {
   "cell_type": "markdown",
   "metadata": {},
   "source": [
    "Among these images, this model should not have any difficulty in classifying _Image1_, _Image2_ and _Image3_ images because the traffic sign in these images lies in the center of image and is not tilted or rotated.\n",
    "\n",
    "_Image4_ and _Image5_ might be difficult to classify because _Image4_ is blur and _Image5_ is rotated, which is little different from the images of same sign in training dataset."
   ]
  },
  {
   "cell_type": "markdown",
   "metadata": {},
   "source": [
    "### Predictions by Model on New Images"
   ]
  },
  {
   "cell_type": "markdown",
   "metadata": {},
   "source": [
    "Here are the results of prediction on the new images:\n",
    "<table align=\"left\" style=\"border:1px solid #cccccc\">\n",
    "    <thead>\n",
    "        <tr style=\"border-bottom:1px solid #cccccc\">\n",
    "            <th style=\"text-align:center;border-right:1px solid #cccccc\">Image</th>\n",
    "            <th style=\"text-align:center\">Prediction</th>\n",
    "        </tr>\n",
    "    </thead>\n",
    "    <tbody>\n",
    "        <tr style=\"border-bottom:1px solid #cccccc\">\n",
    "            <td style=\"text-align:center;border-right:1px solid #cccccc\">Right-of-way at the next intersection</td>\n",
    "            <td style=\"text-align:center\">Right-of-way at the next intersection</td>\n",
    "        </tr>\n",
    "        <tr style=\"border-bottom:1px solid #cccccc\">\n",
    "            <td style=\"text-align:center;border-right:1px solid #cccccc\">Pedestrians</td>\n",
    "            <td style=\"text-align:center\">Pedestrians</td>\n",
    "        </tr>\n",
    "        <tr style=\"border-bottom:1px solid #cccccc\">\n",
    "            <td style=\"text-align:center;border-right:1px solid #cccccc\">Children crossing</td>\n",
    "            <td style=\"text-align:center\">Bicycles crossing</td>\n",
    "        </tr>\n",
    "        <tr style=\"border-bottom:1px solid #cccccc\">\n",
    "            <td style=\"text-align:center;border-right:1px solid #cccccc\">Turn right ahead</td>\n",
    "            <td style=\"text-align:center\">Turn right ahead</td>\n",
    "        </tr>\n",
    "        <tr style=\"border-bottom:1px solid #cccccc\">\n",
    "            <td style=\"text-align:center;border-right:1px solid #cccccc\">Children crossing</td>\n",
    "            <td style=\"text-align:center\">Road Work</td>\n",
    "        </tr>\n",
    "    </tbody>\n",
    "</table>"
   ]
  },
  {
   "cell_type": "markdown",
   "metadata": {
    "collapsed": true
   },
   "source": [
    "The model was able to correctly classify 3 of the 5 traffic signs, which gives an accuracy of 60%. This compares well with the test set accuracy, one image is rotated and other image is same unrotated image confused with another sign."
   ]
  },
  {
   "cell_type": "markdown",
   "metadata": {},
   "source": [
    "### Output Softmax Probabilities"
   ]
  },
  {
   "cell_type": "markdown",
   "metadata": {},
   "source": [
    "<table align=\"left\" style=\"border:1px solid #cccccc\">\n",
    "    <thead>\n",
    "        <tr style=\"border-bottom:1px solid #cccccc\">\n",
    "            <th style=\"text-align:center;border-right:1px solid #cccccc\">Prediction</th>\n",
    "            <th style=\"text-align:center\">Probability</th>\n",
    "        </tr>\n",
    "    </thead>\n",
    "    <tbody>\n",
    "        <tr style=\"border-bottom:1px solid #cccccc\">\n",
    "            <td style=\"text-align:center;border-right:1px solid #cccccc\"></td>\n",
    "            <td style=\"text-align:center\"></td>\n",
    "        </tr>\n",
    "        <tr style=\"border-bottom:1px solid #cccccc\">\n",
    "            <td style=\"text-align:center;border-right:1px solid #cccccc\"></td>\n",
    "            <td style=\"text-align:center\"></td>\n",
    "        </tr>\n",
    "        <tr style=\"border-bottom:1px solid #cccccc\">\n",
    "            <td style=\"text-align:center;border-right:1px solid #cccccc\"></td>\n",
    "            <td style=\"text-align:center\"></td>\n",
    "        </tr>\n",
    "        <tr style=\"border-bottom:1px solid #cccccc\">\n",
    "            <td style=\"text-align:center;border-right:1px solid #cccccc\"></td>\n",
    "            <td style=\"text-align:center\"></td>\n",
    "        </tr>\n",
    "        <tr style=\"border-bottom:1px solid #cccccc\">\n",
    "            <td style=\"text-align:center;border-right:1px solid #cccccc\"></td>\n",
    "            <td style=\"text-align:center\"></td>\n",
    "        </tr>\n",
    "    </tbody>\n",
    "</table>"
   ]
  },
  {
   "cell_type": "markdown",
   "metadata": {},
   "source": [
    "<table align=\"left\" style=\"border:1px solid #cccccc\">\n",
    "    <thead>\n",
    "        <tr style=\"border-bottom:1px solid #cccccc\">\n",
    "            <th style=\"text-align:center;border-right:1px solid #cccccc\">Prediction</th>\n",
    "            <th style=\"text-align:center\">Probability</th>\n",
    "        </tr>\n",
    "    </thead>\n",
    "    <tbody>\n",
    "        <tr style=\"border-bottom:1px solid #cccccc\">\n",
    "            <td style=\"text-align:center;border-right:1px solid #cccccc\"></td>\n",
    "            <td style=\"text-align:center\"></td>\n",
    "        </tr>\n",
    "        <tr style=\"border-bottom:1px solid #cccccc\">\n",
    "            <td style=\"text-align:center;border-right:1px solid #cccccc\"></td>\n",
    "            <td style=\"text-align:center\"></td>\n",
    "        </tr>\n",
    "        <tr style=\"border-bottom:1px solid #cccccc\">\n",
    "            <td style=\"text-align:center;border-right:1px solid #cccccc\"></td>\n",
    "            <td style=\"text-align:center\"></td>\n",
    "        </tr>\n",
    "        <tr style=\"border-bottom:1px solid #cccccc\">\n",
    "            <td style=\"text-align:center;border-right:1px solid #cccccc\"></td>\n",
    "            <td style=\"text-align:center\"></td>\n",
    "        </tr>\n",
    "        <tr style=\"border-bottom:1px solid #cccccc\">\n",
    "            <td style=\"text-align:center;border-right:1px solid #cccccc\"></td>\n",
    "            <td style=\"text-align:center\"></td>\n",
    "        </tr>\n",
    "    </tbody>\n",
    "</table>"
   ]
  },
  {
   "cell_type": "markdown",
   "metadata": {},
   "source": [
    "<table align=\"left\" style=\"border:1px solid #cccccc\">\n",
    "    <thead>\n",
    "        <tr style=\"border-bottom:1px solid #cccccc\">\n",
    "            <th style=\"text-align:center;border-right:1px solid #cccccc\">Prediction</th>\n",
    "            <th style=\"text-align:center\">Probability</th>\n",
    "        </tr>\n",
    "    </thead>\n",
    "    <tbody>\n",
    "        <tr style=\"border-bottom:1px solid #cccccc\">\n",
    "            <td style=\"text-align:center;border-right:1px solid #cccccc\"></td>\n",
    "            <td style=\"text-align:center\"></td>\n",
    "        </tr>\n",
    "        <tr style=\"border-bottom:1px solid #cccccc\">\n",
    "            <td style=\"text-align:center;border-right:1px solid #cccccc\"></td>\n",
    "            <td style=\"text-align:center\"></td>\n",
    "        </tr>\n",
    "        <tr style=\"border-bottom:1px solid #cccccc\">\n",
    "            <td style=\"text-align:center;border-right:1px solid #cccccc\"></td>\n",
    "            <td style=\"text-align:center\"></td>\n",
    "        </tr>\n",
    "        <tr style=\"border-bottom:1px solid #cccccc\">\n",
    "            <td style=\"text-align:center;border-right:1px solid #cccccc\"></td>\n",
    "            <td style=\"text-align:center\"></td>\n",
    "        </tr>\n",
    "        <tr style=\"border-bottom:1px solid #cccccc\">\n",
    "            <td style=\"text-align:center;border-right:1px solid #cccccc\"></td>\n",
    "            <td style=\"text-align:center\"></td>\n",
    "        </tr>\n",
    "    </tbody>\n",
    "</table>"
   ]
  },
  {
   "cell_type": "markdown",
   "metadata": {},
   "source": [
    "<table align=\"left\" style=\"border:1px solid #cccccc\">\n",
    "    <thead>\n",
    "        <tr style=\"border-bottom:1px solid #cccccc\">\n",
    "            <th style=\"text-align:center;border-right:1px solid #cccccc\">Prediction</th>\n",
    "            <th style=\"text-align:center\">Probability</th>\n",
    "        </tr>\n",
    "    </thead>\n",
    "    <tbody>\n",
    "        <tr style=\"border-bottom:1px solid #cccccc\">\n",
    "            <td style=\"text-align:center;border-right:1px solid #cccccc\"></td>\n",
    "            <td style=\"text-align:center\"></td>\n",
    "        </tr>\n",
    "        <tr style=\"border-bottom:1px solid #cccccc\">\n",
    "            <td style=\"text-align:center;border-right:1px solid #cccccc\"></td>\n",
    "            <td style=\"text-align:center\"></td>\n",
    "        </tr>\n",
    "        <tr style=\"border-bottom:1px solid #cccccc\">\n",
    "            <td style=\"text-align:center;border-right:1px solid #cccccc\"></td>\n",
    "            <td style=\"text-align:center\"></td>\n",
    "        </tr>\n",
    "        <tr style=\"border-bottom:1px solid #cccccc\">\n",
    "            <td style=\"text-align:center;border-right:1px solid #cccccc\"></td>\n",
    "            <td style=\"text-align:center\"></td>\n",
    "        </tr>\n",
    "        <tr style=\"border-bottom:1px solid #cccccc\">\n",
    "            <td style=\"text-align:center;border-right:1px solid #cccccc\"></td>\n",
    "            <td style=\"text-align:center\"></td>\n",
    "        </tr>\n",
    "    </tbody>\n",
    "</table>"
   ]
  },
  {
   "cell_type": "markdown",
   "metadata": {},
   "source": [
    "<table align=\"left\" style=\"border:1px solid #cccccc\">\n",
    "    <thead>\n",
    "        <tr style=\"border-bottom:1px solid #cccccc\">\n",
    "            <th style=\"text-align:center;border-right:1px solid #cccccc\">Prediction</th>\n",
    "            <th style=\"text-align:center\">Probability</th>\n",
    "        </tr>\n",
    "    </thead>\n",
    "    <tbody>\n",
    "        <tr style=\"border-bottom:1px solid #cccccc\">\n",
    "            <td style=\"text-align:center;border-right:1px solid #cccccc\"></td>\n",
    "            <td style=\"text-align:center\"></td>\n",
    "        </tr>\n",
    "        <tr style=\"border-bottom:1px solid #cccccc\">\n",
    "            <td style=\"text-align:center;border-right:1px solid #cccccc\"></td>\n",
    "            <td style=\"text-align:center\"></td>\n",
    "        </tr>\n",
    "        <tr style=\"border-bottom:1px solid #cccccc\">\n",
    "            <td style=\"text-align:center;border-right:1px solid #cccccc\"></td>\n",
    "            <td style=\"text-align:center\"></td>\n",
    "        </tr>\n",
    "        <tr style=\"border-bottom:1px solid #cccccc\">\n",
    "            <td style=\"text-align:center;border-right:1px solid #cccccc\"></td>\n",
    "            <td style=\"text-align:center\"></td>\n",
    "        </tr>\n",
    "        <tr style=\"border-bottom:1px solid #cccccc\">\n",
    "            <td style=\"text-align:center;border-right:1px solid #cccccc\"></td>\n",
    "            <td style=\"text-align:center\"></td>\n",
    "        </tr>\n",
    "    </tbody>\n",
    "</table>"
   ]
  },
  {
   "cell_type": "markdown",
   "metadata": {},
   "source": [
    "## Visualizing the Neural Network"
   ]
  },
  {
   "cell_type": "markdown",
   "metadata": {},
   "source": []
  }
 ],
 "metadata": {
  "kernelspec": {
   "display_name": "Python 3",
   "language": "python",
   "name": "python3"
  },
  "language_info": {
   "codemirror_mode": {
    "name": "ipython",
    "version": 3
   },
   "file_extension": ".py",
   "mimetype": "text/x-python",
   "name": "python",
   "nbconvert_exporter": "python",
   "pygments_lexer": "ipython3",
   "version": "3.5.2"
  },
  "widgets": {
   "state": {},
   "version": "1.1.2"
  }
 },
 "nbformat": 4,
 "nbformat_minor": 2
}
