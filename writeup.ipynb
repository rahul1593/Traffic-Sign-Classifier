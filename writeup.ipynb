{
 "cells": [
  {
   "cell_type": "markdown",
   "metadata": {},
   "source": [
    "# Traffic Sign Recognition"
   ]
  },
  {
   "cell_type": "markdown",
   "metadata": {},
   "source": [
    "## Overview"
   ]
  },
  {
   "cell_type": "markdown",
   "metadata": {},
   "source": [
    "This project aims at recognising and classifying german traffic signs.\n",
    "\n",
    "The steps of this project are the following:\n",
    "* Load the dataset\n",
    "* Summarize, explore and Visualize the dataset\n",
    "* Design, train and test a model architecture\n",
    "* Use the model to make predictions on new images\n",
    "* Analyze the softmax probabilities of the new images\n",
    "\n",
    "This project also includes visualization of the neural network."
   ]
  },
  {
   "cell_type": "markdown",
   "metadata": {},
   "source": [
    "## Data Set Summary & Exploration"
   ]
  },
  {
   "cell_type": "markdown",
   "metadata": {},
   "source": [
    "Dataset used in this project contains RGB images of german traffic signs' of size 32x32 pixels.\n",
    "\n",
    "Following are details acquired by using inbuilt functions in python:\n",
    "1. Number of images in training set: 34799\n",
    "2. Number of images in validation set: 4410\n",
    "3. Number of images in test set: 12630\n",
    "4. Shape of the images: (32, 32, 3)\n",
    "5. Number of unique classes/labels in dataset: 43\n",
    "\n",
    "Following chart shows the distribution of images in different classes in training set:\n",
    "\n"
   ]
  }
 ],
 "metadata": {
  "kernelspec": {
   "display_name": "Python 3",
   "language": "python",
   "name": "python3"
  },
  "language_info": {
   "codemirror_mode": {
    "name": "ipython",
    "version": 3
   },
   "file_extension": ".py",
   "mimetype": "text/x-python",
   "name": "python",
   "nbconvert_exporter": "python",
   "pygments_lexer": "ipython3",
   "version": "3.5.2"
  },
  "widgets": {
   "state": {},
   "version": "1.1.2"
  }
 },
 "nbformat": 4,
 "nbformat_minor": 2
}
