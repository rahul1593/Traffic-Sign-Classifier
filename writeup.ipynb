{
 "cells": [
  {
   "cell_type": "markdown",
   "metadata": {},
   "source": [
    "# Traffic Sign Recognition"
   ]
  },
  {
   "cell_type": "markdown",
   "metadata": {},
   "source": [
    "## Overview"
   ]
  },
  {
   "cell_type": "markdown",
   "metadata": {},
   "source": [
    "This project aims at recognising and classifying german traffic signs.\n",
    "\n",
    "The steps of this project are the following:\n",
    "* Load the dataset\n",
    "* Summarize, explore and Visualize the dataset\n",
    "* Design, train and test a model architecture\n",
    "* Use the model to make predictions on new images\n",
    "* Analyze the softmax probabilities of the new images\n",
    "\n",
    "This project also includes visualization of the neural network."
   ]
  },
  {
   "cell_type": "markdown",
   "metadata": {},
   "source": [
    "## Data Set Summary & Exploration"
   ]
  },
  {
   "cell_type": "markdown",
   "metadata": {},
   "source": [
    "Dataset used in this project contains RGB images of german traffic signs' of size 32x32 pixels.\n",
    "\n",
    "Following are details acquired by using inbuilt functions in python:\n",
    "1. Number of images in training set: 34799\n",
    "2. Number of images in validation set: 4410\n",
    "3. Number of images in test set: 12630\n",
    "4. Shape of the images: (32, 32, 3)\n",
    "5. Number of unique classes/labels in dataset: 43\n",
    "\n",
    "Following chart shows the distribution of images in different classes in training set:\n",
    "<img  align=\"left\" src=\"exp/dataDistribution.png\" alt=\"Dataset distribution\"/>"
   ]
  },
  {
   "cell_type": "markdown",
   "metadata": {},
   "source": [
    "Following are few random images from the training dataset:\n",
    "\n",
    "<img  align=\"left\" src=\"exp/trainingImages.png\" alt=\"image\"/>"
   ]
  },
  {
   "cell_type": "markdown",
   "metadata": {},
   "source": [
    "It can be observed in the images that there is no useful information near the edges."
   ]
  },
  {
   "cell_type": "markdown",
   "metadata": {},
   "source": [
    "## Design and Test a Model Architecture"
   ]
  },
  {
   "cell_type": "markdown",
   "metadata": {},
   "source": [
    "The model architecture consists of the following components:\n",
    "* Data pre-processing\n",
    "* Model architecture\n",
    "* Training the model\n",
    "* Output of the model"
   ]
  },
  {
   "cell_type": "markdown",
   "metadata": {},
   "source": [
    "### Data Pre-processing"
   ]
  },
  {
   "cell_type": "markdown",
   "metadata": {},
   "source": [
    "Dataset consists of 32x32 pixels RGB images of German traffic signs. Shape of the images in this case is more important than the color. So, even if images are taken in different lighting conditions, shape can still match. So, following pre-processing is done on the source images:\n",
    "* Convert to grayscale (32x32) and reshape to 32x32x1\n",
    "* Shuffle the data set\n",
    "\n",
    "Following is the snapshot of an image before and after grayscaling:\n",
    "<table align=\"left\">\n",
    "<tr>\n",
    "    <td><img src=\"exp/img_original.png\", alt=\"Original Image\"/></td>\n",
    "    <td><img src=\"exp/img_grayscale.png\", alt=\"Grayscale Image\"/></td>\n",
    "</tr>\n",
    "</table>"
   ]
  },
  {
   "cell_type": "markdown",
   "metadata": {},
   "source": [
    "Shuffling the data helps in randomising the training process each time when model is run."
   ]
  },
  {
   "cell_type": "markdown",
   "metadata": {},
   "source": [
    "### Model Architecture"
   ]
  },
  {
   "cell_type": "markdown",
   "metadata": {},
   "source": [
    "The model consists of the following layers:\n",
    "\n",
    "<table align=\"left\" style=\"border:1px solid #cccccc\">\n",
    "<thead>\n",
    "    <tr style=\"border-bottom:1px solid #cccccc\">\n",
    "        <th style=\"text-align:center;border-right:1px solid #cccccc\">Layer</th>\n",
    "        <th style=\"text-align:center\">Description</th>\n",
    "    </tr>\n",
    "</thead>\n",
    "<tbody>\n",
    "    <tr style=\"border-bottom:1px solid #cccccc\">\n",
    "        <td style=\"text-align:center;border-right:1px solid #cccccc\">Input</td>\n",
    "        <td style=\"text-align:center\">Grayscale image reshaped to 32x32x1</td>\n",
    "    </tr>\n",
    "    <tr style=\"border-bottom:1px solid #cccccc\">\n",
    "        <td style=\"text-align:center;border-right:1px solid #cccccc\">Convolution 5x5</td>\n",
    "        <td style=\"text-align:center\">1x1 stride, VALID padding, output 28x28x32</td>\n",
    "    </tr>\n",
    "    <tr style=\"border-bottom:1px solid #cccccc\">\n",
    "        <td style=\"text-align:center;border-right:1px solid #cccccc\">RELU</td><td></td>\n",
    "    </tr>\n",
    "    <tr style=\"border-bottom:1px solid #cccccc\">\n",
    "        <td style=\"text-align:center;border-right:1px solid #cccccc\">Max pooling 5x5</td>\n",
    "        <td style=\"text-align:center\">2x2 stride, SAME, padding, output 14x14x32</td>\n",
    "    </tr>\n",
    "    <tr style=\"border-bottom:1px solid #cccccc\">\n",
    "        <td style=\"text-align:center;border-right:1px solid #cccccc\">Convolution 5x5</td>\n",
    "        <td style=\"text-align:center\">1x1 stride, SAME padding, output 14x14x64</td>\n",
    "    </tr>\n",
    "    <tr style=\"border-bottom:1px solid #cccccc\">\n",
    "        <td style=\"text-align:center;border-right:1px solid #cccccc\">RELU</td><td></td>\n",
    "    </tr>\n",
    "    <tr style=\"border-bottom:1px solid #cccccc\">\n",
    "        <td style=\"text-align:center;border-right:1px solid #cccccc\">Max pooling 5x5</td>\n",
    "        <td style=\"text-align:center\">2x2 stride, SAME padding, output 7x7x64</td>\n",
    "    </tr>\n",
    "    <tr style=\"border-bottom:1px solid #cccccc\">\n",
    "        <td style=\"text-align:center;border-right:1px solid #cccccc\">Fully Connected</td>\n",
    "        <td style=\"text-align:center\">output 3136</td>\n",
    "    </tr>\n",
    "    <tr style=\"border-bottom:1px solid #cccccc\">\n",
    "        <td style=\"text-align:center;border-right:1px solid #cccccc\">Dropout</td>\n",
    "        <td style=\"text-align:center\">Keep probability 0.9</td>\n",
    "    </tr>\n",
    "    <tr style=\"border-bottom:1px solid #cccccc\">\n",
    "        <td style=\"text-align:center;border-right:1px solid #cccccc\">Fully Connected</td>\n",
    "        <td style=\"text-align:center\">output 1024</td>\n",
    "    </tr>\n",
    "    <tr style=\"border-bottom:1px solid #cccccc\">\n",
    "        <td style=\"text-align:center;border-right:1px solid #cccccc\">RELU</td><td></td>\n",
    "    </tr>\n",
    "    <tr style=\"border-bottom:1px solid #cccccc\">\n",
    "        <td style=\"text-align:center;border-right:1px solid #cccccc\">Fully Connected</td>\n",
    "        <td style=\"text-align:center\">output 172</td>\n",
    "    </tr>\n",
    "    <tr style=\"border-bottom:1px solid #cccccc\">\n",
    "        <td style=\"text-align:center;border-right:1px solid #cccccc\">RELU</td><td></td>\n",
    "    </tr>\n",
    "    <tr style=\"border-bottom:1px solid #cccccc\">\n",
    "        <td style=\"text-align:center;border-right:1px solid #cccccc\">Dropout</td>\n",
    "        <td style=\"text-align:center\">Keep probability 0.85</td>\n",
    "    </tr>\n",
    "    <tr style=\"border-bottom:1px solid #cccccc\">\n",
    "        <td style=\"text-align:center;border-right:1px solid #cccccc\">Fully Connected</td>\n",
    "        <td style=\"text-align:center\">output 43</td>\n",
    "    </tr>\n",
    "    <tr style=\"border-bottom:1px solid #cccccc\">\n",
    "        <td style=\"text-align:center;border-right:1px solid #cccccc\">RELU</td><td></td>\n",
    "    </tr>\n",
    "</tbody>\n",
    "</table>"
   ]
  },
  {
   "cell_type": "markdown",
   "metadata": {},
   "source": [
    "### Training the Model"
   ]
  },
  {
   "cell_type": "markdown",
   "metadata": {},
   "source": []
  },
  {
   "cell_type": "markdown",
   "metadata": {},
   "source": [
    "### Output of the Model"
   ]
  },
  {
   "cell_type": "markdown",
   "metadata": {},
   "source": []
  },
  {
   "cell_type": "markdown",
   "metadata": {},
   "source": [
    "## Test Model on New Images"
   ]
  },
  {
   "cell_type": "markdown",
   "metadata": {},
   "source": [
    "### New Images"
   ]
  },
  {
   "cell_type": "markdown",
   "metadata": {},
   "source": [
    "Here are five German traffic signs that I found on the web:\n",
    "\n",
    "<table align=\"left\">\n",
    "    <tr>\n",
    "        <td><img src=\"test_images/img1.jpg\", alt=\"Original Image\" style=\"height:200px;width:200px\"/></td>\n",
    "        <td><img src=\"test_images/img2.jpg\", alt=\"Grayscale Image\" style=\"height:200px;width:200px\"/></td>\n",
    "        <td><img src=\"test_images/img3.jpg\", alt=\"Original Image\" style=\"height:200px;width:200px\"/></td>\n",
    "    </tr>\n",
    "    <tr>\n",
    "        <td><img src=\"test_images/img4.jpg\", alt=\"Grayscale Image\" style=\"height:200px;width:200px\"/></td>\n",
    "        <td><img src=\"test_images/img5.jpg\", alt=\"Original Image\" style=\"height:200px;width:200px\"/></td>\n",
    "        <td></td>\n",
    "    </tr>\n",
    "</table>"
   ]
  },
  {
   "cell_type": "markdown",
   "metadata": {},
   "source": [
    "### Predictions by Model on New Images"
   ]
  },
  {
   "cell_type": "markdown",
   "metadata": {},
   "source": []
  },
  {
   "cell_type": "markdown",
   "metadata": {},
   "source": [
    "### Output Softmax Probabilities"
   ]
  },
  {
   "cell_type": "markdown",
   "metadata": {},
   "source": []
  },
  {
   "cell_type": "markdown",
   "metadata": {},
   "source": [
    "## Visualizing the Neural Network"
   ]
  },
  {
   "cell_type": "markdown",
   "metadata": {},
   "source": []
  }
 ],
 "metadata": {
  "kernelspec": {
   "display_name": "Python 3",
   "language": "python",
   "name": "python3"
  },
  "language_info": {
   "codemirror_mode": {
    "name": "ipython",
    "version": 3
   },
   "file_extension": ".py",
   "mimetype": "text/x-python",
   "name": "python",
   "nbconvert_exporter": "python",
   "pygments_lexer": "ipython3",
   "version": "3.5.2"
  },
  "widgets": {
   "state": {},
   "version": "1.1.2"
  }
 },
 "nbformat": 4,
 "nbformat_minor": 2
}
